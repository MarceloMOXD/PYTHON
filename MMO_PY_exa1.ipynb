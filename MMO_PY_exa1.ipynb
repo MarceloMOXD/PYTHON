{
  "nbformat": 4,
  "nbformat_minor": 0,
  "metadata": {
    "colab": {
      "provenance": [],
      "authorship_tag": "ABX9TyNTBbI9bJyXM74WKoWKZT38",
      "include_colab_link": true
    },
    "kernelspec": {
      "name": "python3",
      "display_name": "Python 3"
    },
    "language_info": {
      "name": "python"
    }
  },
  "cells": [
    {
      "cell_type": "markdown",
      "metadata": {
        "id": "view-in-github",
        "colab_type": "text"
      },
      "source": [
        "<a href=\"https://colab.research.google.com/github/MarceloMOXD/PYTHON/blob/main/MMO_PY_exa1.ipynb\" target=\"_parent\"><img src=\"https://colab.research.google.com/assets/colab-badge.svg\" alt=\"Open In Colab\"/></a>"
      ]
    },
    {
      "cell_type": "markdown",
      "source": [
        "Escribe una funcion de Python en collaboratory que realice lo siguiente:\n",
        "\n",
        "funcion que retorne el resultado del area de un triangulo\n",
        "\n",
        "Escribir codigo que mande llamar la funcion y desplegar el resultado,\n",
        "\n",
        "VALIDAR da tos entrada\n",
        "\n",
        "Escribir enlace a GITHUB a un dcto que se llame INICIALES_PY_exa1"
      ],
      "metadata": {
        "id": "HLe4jPrrri92"
      }
    },
    {
      "cell_type": "code",
      "execution_count": 7,
      "metadata": {
        "colab": {
          "base_uri": "https://localhost:8080/"
        },
        "id": "FJ3szZsJqKWn",
        "outputId": "9ceba5ea-5f4e-439c-ddba-d41ee25d25d3"
      },
      "outputs": [
        {
          "output_type": "stream",
          "name": "stdout",
          "text": [
            "Ingresa la base del triangulo:3\n",
            "Ingresa la altura del triangulo:7\n",
            "El area es: 10.5\n"
          ]
        }
      ],
      "source": [
        "def area_triang(base,altura):\n",
        "    area = (base * altura) / 2\n",
        "    return area\n",
        "\n",
        "base = float(input(\"Ingresa la base del triangulo:\"))\n",
        "altura = float(input(\"Ingresa la altura del triangulo:\"))\n",
        "area = area_triang(base,altura)\n",
        "print(f\"El area es: {area}\")"
      ]
    },
    {
      "cell_type": "code",
      "source": [],
      "metadata": {
        "id": "CCGmu4yvq7oH"
      },
      "execution_count": null,
      "outputs": []
    }
  ]
}