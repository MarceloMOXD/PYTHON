{
  "nbformat": 4,
  "nbformat_minor": 0,
  "metadata": {
    "colab": {
      "provenance": [],
      "authorship_tag": "ABX9TyM6nXUbFxaMM1KqwP3g+atk",
      "include_colab_link": true
    },
    "kernelspec": {
      "name": "python3",
      "display_name": "Python 3"
    },
    "language_info": {
      "name": "python"
    }
  },
  "cells": [
    {
      "cell_type": "markdown",
      "metadata": {
        "id": "view-in-github",
        "colab_type": "text"
      },
      "source": [
        "<a href=\"https://colab.research.google.com/github/MarceloMOXD/PYTHON/blob/main/MMO_PY_exa1.ipynb\" target=\"_parent\"><img src=\"https://colab.research.google.com/assets/colab-badge.svg\" alt=\"Open In Colab\"/></a>"
      ]
    },
    {
      "cell_type": "markdown",
      "source": [
        "Escribe una funcion de Python en collaboratory que realice lo siguiente:\n",
        "\n",
        "funcion que retorne el resultado del area de un triangulo\n",
        "\n",
        "Escribir codigo que mande llamar la funcion y desplegar el resultado,\n",
        "\n",
        "VALIDAR da tos entrada\n",
        "\n",
        "Escribir enlace a GITHUB a un dcto que se llame INICIALES_PY_exa1"
      ],
      "metadata": {
        "id": "HLe4jPrrri92"
      }
    },
    {
      "cell_type": "code",
      "execution_count": 7,
      "metadata": {
        "colab": {
          "base_uri": "https://localhost:8080/"
        },
        "id": "FJ3szZsJqKWn",
        "outputId": "9ceba5ea-5f4e-439c-ddba-d41ee25d25d3"
      },
      "outputs": [
        {
          "output_type": "stream",
          "name": "stdout",
          "text": [
            "Ingresa la base del triangulo:3\n",
            "Ingresa la altura del triangulo:7\n",
            "El area es: 10.5\n"
          ]
        }
      ],
      "source": [
        "def area_triang(base,altura):\n",
        "    area = (base * altura) / 2\n",
        "    return area\n",
        "\n",
        "base = float(input(\"Ingresa la base del triangulo:\"))\n",
        "altura = float(input(\"Ingresa la altura del triangulo:\"))\n",
        "area = area_triang(base,altura)\n",
        "print(f\"El area es: {area}\")"
      ]
    },
    {
      "cell_type": "markdown",
      "source": [
        "funcion que retorne el factorial de un numero dado \n",
        "\n",
        "Escribir codigo que mande llamar la funcion y desplegar el resultado"
      ],
      "metadata": {
        "id": "4Svg83kpsdie"
      }
    },
    {
      "cell_type": "code",
      "source": [],
      "metadata": {
        "id": "CCGmu4yvq7oH"
      },
      "execution_count": null,
      "outputs": []
    },
    {
      "cell_type": "markdown",
      "source": [
        "funcion que retorne un numero dentro de un rango dado, validar el numero que cumpla el requisito del rango, la funcion debera validar que el programa no marque error por introducir informacion erronea (usar try except)\n",
        "\n",
        "Escribir codigo que mande llamar la funcion y desplegar el resultado,\n",
        "\n",
        "Escribir enlace a GITHUB a un dcto que se llame INICIALES_PY_exa1"
      ],
      "metadata": {
        "id": "pfnzIoMPsmA-"
      }
    },
    {
      "cell_type": "code",
      "source": [
        "def validar_rango(ri,rf):\n",
        "    while True:\n",
        "        try:\n",
        "            num = float(input(f\"Ingresa un numero entre {ri} y {rf}:\"))\n",
        "            if num > ri and num < rf:\n",
        "                return num\n",
        "            else:\n",
        "                print(\"Numero fuera del rango\")\n",
        "        except:\n",
        "            print(\"Error, el numero no es valido\")\n",
        "\n",
        "num_validado = validar_rango(1,20)\n",
        "print(f\"El numero es: {num_validado}\")"
      ],
      "metadata": {
        "colab": {
          "base_uri": "https://localhost:8080/"
        },
        "id": "Wly-Q_D1smeO",
        "outputId": "b6212cd3-badb-40e9-8db6-5e29897855fe"
      },
      "execution_count": 11,
      "outputs": [
        {
          "output_type": "stream",
          "name": "stdout",
          "text": [
            "Ingresa un numero entre 1 y 20:27\n",
            "Numero fuera del rango\n",
            "Ingresa un numero entre 1 y 20:-2\n",
            "Numero fuera del rango\n",
            "Ingresa un numero entre 1 y 20:sdaf\n",
            "Error, el numero no es valido\n",
            "Ingresa un numero entre 1 y 20:15\n",
            "El numero es: 15.0\n"
          ]
        }
      ]
    },
    {
      "cell_type": "markdown",
      "source": [],
      "metadata": {
        "id": "kuXaShb9uauX"
      }
    }
  ]
}