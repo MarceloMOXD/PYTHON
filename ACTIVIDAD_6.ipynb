{
  "nbformat": 4,
  "nbformat_minor": 0,
  "metadata": {
    "colab": {
      "provenance": [],
      "authorship_tag": "ABX9TyOh7M4DnowiYM40GT4EcbQe",
      "include_colab_link": true
    },
    "kernelspec": {
      "name": "python3",
      "display_name": "Python 3"
    },
    "language_info": {
      "name": "python"
    }
  },
  "cells": [
    {
      "cell_type": "markdown",
      "metadata": {
        "id": "view-in-github",
        "colab_type": "text"
      },
      "source": [
        "<a href=\"https://colab.research.google.com/github/MarceloMOXD/PYTHON/blob/main/ACTIVIDAD_6.ipynb\" target=\"_parent\"><img src=\"https://colab.research.google.com/assets/colab-badge.svg\" alt=\"Open In Colab\"/></a>"
      ]
    },
    {
      "cell_type": "code",
      "execution_count": 1,
      "metadata": {
        "id": "Kd80u-HHyPiD"
      },
      "outputs": [],
      "source": [
        "#Actividad 6"
      ]
    },
    {
      "cell_type": "code",
      "source": [
        "import random\n",
        "from IPython.display import clear_output"
      ],
      "metadata": {
        "id": "sH3G9pVrz2n3"
      },
      "execution_count": 1,
      "outputs": []
    },
    {
      "cell_type": "code",
      "source": [
        "#FUNCION VALIDA NUM\n",
        "def validar_nums(msge,ri=0,rf=101,msgError1=\"NUMERO FUERA DEL RANGO\",msgError2=\"INGRESA UN VALOR NUMERICO\"):\n",
        "    while True:\n",
        "        try:\n",
        "            num = int(input(f\"{msge}: \"))\n",
        "        except:\n",
        "            print (msgError2)\n",
        "            continue\n",
        "        if num < ri or num > rf:\n",
        "            print(f\"{msgError1} ({ri} a {rf})\")\n",
        "            continue\n",
        "        else:\n",
        "            break\n",
        "    return num\n"
      ],
      "metadata": {
        "id": "XTZfM6hJ4mIB"
      },
      "execution_count": 2,
      "outputs": []
    },
    {
      "cell_type": "code",
      "source": [
        "#1.- FUNCIÓN QUE LEA n CANTIDAD DE NÚMEROS HASTA QUE EL USUARIO LO DESEE, DESPLEGAR LA SUMA DE LOS NÚMEROS, MEDIA Y VALOR DE LOS NÚMEROS MAYORES Y MENORES.\n",
        "def numeros_usuar():\n",
        "    def n_numeros(n):\n",
        "        sumanum = 0\n",
        "        nummayor = 0\n",
        "        nummenor =99999\n",
        "        for i in range(n):\n",
        "            num = int(input(f\"Ingresa el numero {i+1}: \"))\n",
        "            sumanum += num\n",
        "            if num > nummayor:\n",
        "                nummayor = num\n",
        "            if num < nummenor:\n",
        "                nummenor = num\n",
        "        print(\"------------------------------------\")\n",
        "        print(f\"La suma de los numeros es: {sumanum}\")\n",
        "        print(f\"La media de los numeros es: {sumanum/(i+1)}\")\n",
        "        print(f\"El numero mayor es: {nummayor} \")\n",
        "        print(f\"El numero menor es: {nummenor}\")\n",
        "    \n",
        "    msge = \"Ingresa la cantidad de numeros a leer: \"\n",
        "    n = validar_nums(msge)\n",
        "    n_numeros(n)"
      ],
      "metadata": {
        "id": "1nHxV2lryXmi"
      },
      "execution_count": 3,
      "outputs": []
    },
    {
      "cell_type": "code",
      "source": [
        "#2.- FUNCIÓN QUE GENERE 15 NÚMEROS IMPARES ENTRE 10 Y 60 o MÁXIMO DE 25 NÚMEROS. DESPLEGAR LA MEDIA DE LOS PARES Y MEDIA DE IMPARES.\n",
        "def nums():\n",
        "    impar = 1\n",
        "    par = 1\n",
        "    i = 0\n",
        "    sumapar = 0\n",
        "    sumaimpar = 0\n",
        "    while impar <= 15 and i < 25:\n",
        "        num = random.randint(10,60)\n",
        "        print(f\"Numero {i+1}: {num} \", end = \" \")\n",
        "        if num%2 != 0:\n",
        "            print(\"IMPAR\")\n",
        "            impar += 1\n",
        "            sumaimpar += num\n",
        "        else:\n",
        "            print(\"PAR\")\n",
        "            par += 1\n",
        "            sumapar += num\n",
        "        i +=1\n",
        "    print(\"---------------------------------------\")\n",
        "    print(f\"La media de los pares es: {round(sumapar/par,2)}\")\n",
        "    print(f\"La media de los impares es: {round(sumaimpar/impar,2)}\")\n"
      ],
      "metadata": {
        "id": "lqcZ_bQAywp0"
      },
      "execution_count": 4,
      "outputs": []
    },
    {
      "cell_type": "code",
      "source": [
        "#3.- FUNCIÓN QUE SIRVA PARA LEER UN RANGO DADO POR EL USUARIO. REPETIR ESTA ACCIÓN HASTA QUE EL USUARIO LO DESEE, DESPLEGAR CANTIDAD DE NUMEROS Y PROMEDIO DE LOS NUMEROS..\n",
        "def validar_numrango():\n",
        "    def validar_num(ri,rf,msge =\"DAME UN NUMERO ENTRE \",msgError1=\"NUMERO FUERA DEL RANGO\",msgError2=\"INGRESA UN NUMERO QUE ESTE EN EL RANGO\"):\n",
        "        sumanum = 0\n",
        "        nums = 0\n",
        "        while True:\n",
        "            try:\n",
        "                num = int(input(f\"{msge} {ri} y {rf}: \"))\n",
        "            except:\n",
        "                print (msgError2)\n",
        "                continue\n",
        "            else:\n",
        "                nums +=1\n",
        "                sumanum += num\n",
        "            if num < ri or num > rf:\n",
        "                print(msgError2)\n",
        "                continue\n",
        "            else:\n",
        "                print(\"FELICIDADES, EL NUMERO ESTA DENTRO DEL RANGO\")\n",
        "                break\n",
        "        print(\"---------------------------------------------\")\n",
        "        print(f\"La cantidad de números es: {nums}\")\n",
        "        print(f\"El promedio de los números es:{sumanum/nums}\")\n",
        "            \n",
        "    msge = \"Ingresa el rango inicial: \"\n",
        "    ri = validar_nums(msge)\n",
        "    msge = \"Ingresa el rango final: \"\n",
        "    rf = validar_nums(msge)\n",
        "    validar_num(ri,rf)\n",
        "    msge1 = \"Ingresa el rango inicial\"\n",
        "    msge2 = \"Ingresa el rango final\""
      ],
      "metadata": {
        "id": "QZrEPqNcyz97"
      },
      "execution_count": 5,
      "outputs": []
    },
    {
      "cell_type": "code",
      "source": [
        "#4.- FUNCIÓN QUE RECIBA COMO PARÁMETRO LOS VALORES PARA EL ÁREA DE UN TRIANGULO Y RETORNE SU RESULTADO\n",
        "def area_triangulo():\n",
        "    msge = \"Ingresa la base del triangulo\"\n",
        "    base = validar_nums(msge)\n",
        "    msge = \"Ingresa la altura del triangulo\"\n",
        "    altura = validar_nums(msge)\n",
        "    def area(base,altura):\n",
        "        area = (base *  altura) / 2\n",
        "        print(f\"El area del triangulo es: {area}\")\n",
        "        \n",
        "    area(base,altura)"
      ],
      "metadata": {
        "id": "ILwRBPrnzCgJ"
      },
      "execution_count": 6,
      "outputs": []
    },
    {
      "cell_type": "code",
      "source": [
        "#5.- FUNCION QUE SIRVA QUE SIRVA PARA EVALUAR EL PROMEDIO DE 3 CALIFICACIONES DADAS, SI EL USUARIO SU CALIFICACION ES APROBADA MANDAR MSGE QUE DIGA\n",
        "# \"felicidades avanzas al siguiente semestre\", SI LA CALIFICACIONE ESTA REPROBADA EL MENSAGE \"repetir materia \" EL ALUMNO TENDRA UN MAXIMO DE CURSAR\n",
        "# 3 VESES LA MATERIA, SI LA REPRUEBA 3 VESES MANDAR MSGE \" lastima estas fuera de la UABC\"\n",
        "def evaluar_prom():\n",
        "    sumacal = 0\n",
        "    repetir = 0\n",
        "    while True:\n",
        "        try:\n",
        "            print(\"-----------------------\")\n",
        "            print(f\"INTENTO {repetir+1}\")\n",
        "            for i in range(3):\n",
        "                msge = f\"Ingresa la calificacion {i+1}\"\n",
        "                cal = validar_nums(msge)\n",
        "                sumacal += cal\n",
        "\n",
        "            prom = sumacal / 3\n",
        "            if cal < 0 or cal > 100:\n",
        "                raise ValueError(\"El número debe estar entre 0 y 100.\")\n",
        "        except ValueError as e:\n",
        "            print(\"Error:\", e)\n",
        "        else:\n",
        "            print(f\"Tu promedio es: {prom}\")\n",
        "            if repetir == 2:\n",
        "                print(\"LASTIMA, ESTAS FUERA DE LA UABC\")\n",
        "                break\n",
        "            if prom >= 60:\n",
        "                print(\"FELICIDADES, AVANZAS AL SIGUIENTE SEMESTRE\")\n",
        "                break\n",
        "            else:\n",
        "                print(\"REPETIR MATERIA\")\n",
        "                repetir += 1\n",
        "                sumacal = 0\n",
        "                continue\n",
        "            "
      ],
      "metadata": {
        "id": "rCBaP7mwzEuz"
      },
      "execution_count": 7,
      "outputs": []
    },
    {
      "cell_type": "code",
      "source": [
        "def menu():\n",
        "    print(\"MENU:\")\n",
        "    print(\"1.-SUMA DE N NUMEROS\")\n",
        "    print(\"2.-NUMEROS PARES E IMPARES\")\n",
        "    print(\"3.-NUMEROS EN RANGO POR EL USUARIO\")\n",
        "    print(\"4.-AREA DE UN TRIANGULO\")\n",
        "    print(\"5.-EVALUAR PROMEDIO\")\n",
        "    print(\"6.-SALIR\")"
      ],
      "metadata": {
        "id": "npPpFEMfhXsG"
      },
      "execution_count": 8,
      "outputs": []
    },
    {
      "cell_type": "code",
      "source": [
        "#EJECUCION DE TODAS LAS FUNCIONES(MAIN)\n",
        "\n",
        "while True:\n",
        "    menu()\n",
        "    op = int(input(\"Ingresa la funcion que deseas utilizar: \"))\n",
        "    if op == 1:\n",
        "        \n",
        "        numeros_usuar()\n",
        "        input(\"Presiona ENTER para borrar la pantalla\")\n",
        "        clear_output()\n",
        "        continue\n",
        "    elif op == 2:\n",
        "        nums()\n",
        "        input(\"Presiona ENTER para borrar la pantalla\")\n",
        "        clear_output()\n",
        "        continue\n",
        "    elif op == 3:\n",
        "        validar_numrango()\n",
        "        input(\"Presiona ENTER para borrar la pantalla\")\n",
        "        clear_output()\n",
        "        continue\n",
        "    elif op == 4:\n",
        "        area_triangulo()\n",
        "        input(\"Presiona ENTER para borrar la pantalla\")\n",
        "        clear_output()\n",
        "        continue\n",
        "    elif op == 5:\n",
        "        evaluar_prom()\n",
        "        input(\"Presiona ENTER para borrar la pantalla\")\n",
        "        clear_output()\n",
        "        continue\n",
        "    elif op == 6:\n",
        "        break\n"
      ],
      "metadata": {
        "id": "M4D8kGKOzdhS",
        "colab": {
          "base_uri": "https://localhost:8080/"
        },
        "outputId": "5518abf1-474f-4597-9b5c-92beee3d0b6a"
      },
      "execution_count": null,
      "outputs": [
        {
          "output_type": "stream",
          "name": "stdout",
          "text": [
            "MENU:\n",
            "1.-SUMA DE N NUMEROS\n",
            "2.-NUMEROS PARES E IMPARES\n",
            "3.-NUMEROS EN RANGO POR EL USUARIO\n",
            "4.-AREA DE UN TRIANGULO\n",
            "5.-EVALUAR PROMEDIO\n",
            "6.-SALIR\n",
            "Ingresa la funcion que deseas utilizar: 5\n",
            "-----------------------\n",
            "INTENTO 1\n",
            "Ingresa la calificacion 1: 59\n",
            "Ingresa la calificacion 2: 59\n",
            "Ingresa la calificacion 3: 59\n",
            "Tu promedio es: 59.0\n",
            "REPETIR MATERIA\n",
            "-----------------------\n",
            "INTENTO 2\n",
            "Ingresa la calificacion 1: 60\n",
            "Ingresa la calificacion 2: 80\n",
            "Ingresa la calificacion 3: 70\n",
            "Tu promedio es: 70.0\n",
            "FELICIDADES, AVANZAS AL SIGUIENTE SEMESTRE\n"
          ]
        }
      ]
    }
  ]
}