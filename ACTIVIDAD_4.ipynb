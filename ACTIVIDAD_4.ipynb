{
  "nbformat": 4,
  "nbformat_minor": 0,
  "metadata": {
    "colab": {
      "provenance": [],
      "authorship_tag": "ABX9TyNbBgbLgPWYx/TeeHIacWm6",
      "include_colab_link": true
    },
    "kernelspec": {
      "name": "python3",
      "display_name": "Python 3"
    },
    "language_info": {
      "name": "python"
    }
  },
  "cells": [
    {
      "cell_type": "markdown",
      "metadata": {
        "id": "view-in-github",
        "colab_type": "text"
      },
      "source": [
        "<a href=\"https://colab.research.google.com/github/MarceloMOXD/PYTHON/blob/main/ACTIVIDAD_4.ipynb\" target=\"_parent\"><img src=\"https://colab.research.google.com/assets/colab-badge.svg\" alt=\"Open In Colab\"/></a>"
      ]
    },
    {
      "cell_type": "markdown",
      "source": [
        "# ACTIVIDAD 4\n",
        "\n",
        "\n",
        "REALIZA LOS SIGUIENTES EJERCICIOS USANDO LA FORMA ADECUADA Y USANDO try Except NO DEBERA FALLAR EL PROGRAMA."
      ],
      "metadata": {
        "id": "ynuRoYRT50Vk"
      }
    },
    {
      "cell_type": "markdown",
      "source": [
        "1.- Programa en python   que lea 3 calificaciones calcule el promedio del alumno y desplegar: \n",
        "\n",
        "Si prom < 30 Repetir \n",
        "\n",
        "Si prom >=30 y prom <60 extraordinario \n",
        "\n",
        "Si prom >=60 y prom <70 suficiente \n",
        "\n",
        "Si prom >=70 y prom <80 Regular \n",
        "\n",
        "Si prom >=80 y prom <90 bien \n",
        "\n",
        "Si prom >=90 y prom <98 muy bien \n",
        "\n",
        "Si prom >=98 y prom <=100 excelente \n",
        "\n",
        "Si prom >100 Error en promedio \n",
        "\n",
        "Realizar el algoritmo optimizado"
      ],
      "metadata": {
        "id": "HsVn4nXn56Y0"
      }
    },
    {
      "cell_type": "code",
      "source": [
        "try:\n",
        "    cal1 = float(input(\"Escribe la primera calificación: \"))\n",
        "    cal2 = float(input(\"Escribe la segunda calificación: \"))\n",
        "    cal3 = float(input(\"Escribe la tercera calificación: \"))\n",
        "    prom = (cal1 + cal2 +cal3) / 3\n",
        "    print(\"Tu promedio es:\",round(prom,2))\n",
        "    if prom >= 80:\n",
        "        if prom >= 98:\n",
        "            if prom > 100:\n",
        "                print(\"Error en el promedio\")\n",
        "            else:\n",
        "                print(\"Excelente\")\n",
        "        else:\n",
        "            if prom >= 90:\n",
        "                print(\"Muy bien\")\n",
        "            else:\n",
        "                print(\"Bien\")\n",
        "    else:\n",
        "        if prom >= 60:\n",
        "            if prom >= 70:\n",
        "                print(\"Regular\")\n",
        "            else:\n",
        "                print(\"Suficiente\")\n",
        "        else:\n",
        "            if prom >= 30:\n",
        "                print(\"Extraordinario\")\n",
        "            else:\n",
        "                print(\"Repetir\")\n",
        "except:\n",
        "    print(\"Error, introduce un numero\")"
      ],
      "metadata": {
        "colab": {
          "base_uri": "https://localhost:8080/"
        },
        "id": "CNBYWQrW5-9d",
        "outputId": "c014123c-1f0a-48f2-9a11-064a196f16c7"
      },
      "execution_count": null,
      "outputs": [
        {
          "output_type": "stream",
          "name": "stdout",
          "text": [
            "Escribe la primera calificación: 45.4\n",
            "Escribe la segunda calificación: 45.4\n",
            "Escribe la tercera calificación: 45.5\n",
            "Tu promedio es: 45.43\n",
            "Extraordinario\n"
          ]
        }
      ]
    },
    {
      "cell_type": "markdown",
      "source": [
        "2.- Programa en Python que sirva para calcular el salario semanal de un trabajador donde se obtiene como dato de entrada las horas semanales trabajadas, el salario por hora. \n",
        "\n",
        "El programa deberá calcular el salario normal, salario extra y salario total, considerando lo siguiente: \n",
        "\n",
        "Jornada Normal de 40 horas. \n",
        "El salario normal se considera las horas trabajadas menores o igual a la jornada normal\n",
        "Salario extra se considera las horas trabajadas mayores a la jornada normal y se pagan dobles las primeras 9 y triples a partir de la décima hora extra \n",
        "\n",
        "\n",
        "Nota: Desplegar todos los datos (Salario x hora, Horas Trabajadas, Salario normal, Salario extra y Salario Total)"
      ],
      "metadata": {
        "id": "eQWk59rp5_N8"
      }
    },
    {
      "cell_type": "code",
      "source": [
        "try:\n",
        "    horas = int(input(\"Ingresa las horas que trabajaste en la semana: \"))\n",
        "    try:\n",
        "        salario_hora = float(input(\"Ingresa tu salario por hora: \"))\n",
        "        if horas > 40:\n",
        "            if horas > 49:\n",
        "                salario_norm = (salario_hora * 40)\n",
        "                salario_ext = ((salario_hora * 2) * 9) + ((salario_hora * 3) * (horas - 49))\n",
        "            else:\n",
        "                salario_norm = (salario_hora * 40)\n",
        "                salario_ext = ((salario_hora * 2) * (horas - 40))\n",
        "        else:\n",
        "            salario_norm = (salario_hora * horas)\n",
        "            salario_ext = 0\n",
        "        salario_tot = salario_norm + salario_ext\n",
        "        print(f\"Salario x hora: {salario_hora} $\")\n",
        "        print(f\"Horas Trabajadas: {horas} $\")\n",
        "        print(f\"Salario normal: {salario_norm} $\")\n",
        "        print(f\"Salario extra: {salario_ext} $\")\n",
        "        print(f\"Salario total: {salario_tot} $\")\n",
        "    except:\n",
        "        print(\"Error, ingresa un valor numerico\")\n",
        "except:\n",
        "    print(\"Las horas deben ser ingresadas con valores ENTEROS\")"
      ],
      "metadata": {
        "colab": {
          "base_uri": "https://localhost:8080/"
        },
        "id": "ZSTXb_y76B0l",
        "outputId": "250a15e1-e60f-44b6-d45b-8c51fca65b53"
      },
      "execution_count": null,
      "outputs": [
        {
          "output_type": "stream",
          "name": "stdout",
          "text": [
            "Ingresa las horas que trabajaste en la semana: 46.7\n",
            "Las horas deben ser ingresadas con valores ENTEROS\n"
          ]
        }
      ]
    },
    {
      "cell_type": "markdown",
      "source": [
        "3.- Programa en Python que sirva para calcular el Total a pagar por consumo de agua, donde el dato de entrada son los M3 de agua consumidos, Tomar en cuenta que se cobra escalonada de la Siguiente manera: \n",
        "\n",
        "Rango1: 0 al 4 M3 $50 x facturación sin importar cuánto consumió en este rango \n",
        "\n",
        "Rango2: 5 a 15 M3 $8.00 x M3 \n",
        "\n",
        "Rango3: 16 a 50 M3 $10.00 x M3 \n",
        "\n",
        "Rango4: 51 M3 en adelante $11.00 x M3 \n",
        "\n",
        "Nota: Desplegar SubTotal, Iva(16%), y Total a pagar."
      ],
      "metadata": {
        "id": "FfB30u-h6CJM"
      }
    },
    {
      "cell_type": "code",
      "source": [
        "try:\n",
        "    minutos = int(input(\"Ingresa los minutos de la llamada:\"))\n",
        "    tipo_llamada = int(input(\" 1.-Llamada Local \\n 2.-Llamada Nacional \\n 3.-Llamada Internacional \\n Ingresa el tipo de llamada: \"))\n",
        "    if tipo_llamada == 1:\n",
        "        subtotal = minutos * 3\n",
        "    else:\n",
        "        if tipo_llamada == 2:\n",
        "            if minutos > 3:\n",
        "                subtotal = (3 * 7)+((minutos-3)*2)\n",
        "            else:\n",
        "                subtotal = (minutos * 7)\n",
        "        else:\n",
        "            if tipo_llamada == 3:\n",
        "                if minutos > 2:\n",
        "                    subtotal = (2 * 9)+((minutos-2)*4)\n",
        "                else:\n",
        "                    subtotal = (minutos * 9)\n",
        "            else:\n",
        "                print(\"Tipo de llamada no valida\")\n",
        "    iva = subtotal * 0.16\n",
        "    total = subtotal + iva\n",
        "    print(f\"Subtotal: {subtotal}\")\n",
        "    print(f\"Iva(16%): {iva}\")\n",
        "    print(f\"Total: {total}\")\n",
        "except:\n",
        "    print(\"Error, el valor ingresado debe ser un numero ENTERO\")"
      ],
      "metadata": {
        "colab": {
          "base_uri": "https://localhost:8080/"
        },
        "id": "IXSU3qDl6EK0",
        "outputId": "8591a89b-2f45-4587-fd95-03d881966084"
      },
      "execution_count": 2,
      "outputs": [
        {
          "output_type": "stream",
          "name": "stdout",
          "text": [
            "Ingresa los minutos de la llamada:45.5\n",
            "Error, el valor ingresado debe ser un numero ENTERO\n"
          ]
        }
      ]
    },
    {
      "cell_type": "markdown",
      "source": [
        "4- En la materia de Metodología de la programación se aplican 5 exámenes, calcular el promedio final de la materia donde la calificación menor de los exámenes se anula y el promedio se calcula en base a 4 exámenes.\n",
        "\n",
        "Desplegar el promedio final. y cual es la mas baja que se elimino."
      ],
      "metadata": {
        "id": "e-3gPwIs6Ecc"
      }
    },
    {
      "cell_type": "code",
      "source": [
        "try:\n",
        "    examen1 = int(input(\"Ingresa la calificación del primer examen: \"))\n",
        "    examen2 = int(input(\"Ingresa la calificación del segundo examen: \"))\n",
        "    examen3 = int(input(\"Ingresa la calificación del tercer examen: \"))\n",
        "    examen4 = int(input(\"Ingresa la calificación del cuarto examen: \"))\n",
        "    examen5 = int(input(\"Ingresa la calificación del quinto examen: \"))\n",
        "    calmenor = min(examen1,examen2,examen3,examen4,examen5)\n",
        "    prom = (examen1 + examen2 + examen3 + examen4 + examen5 - calmenor) /4\n",
        "    print (f\"El promedio final es: {prom}\")\n",
        "except:\n",
        "    print(\"La calificacion debe ser un valor numerico ENTERO\")"
      ],
      "metadata": {
        "colab": {
          "base_uri": "https://localhost:8080/"
        },
        "id": "vIX_TJQa6GOc",
        "outputId": "ac5eb82e-e497-4fb2-f88f-2758d9e9fac3"
      },
      "execution_count": null,
      "outputs": [
        {
          "output_type": "stream",
          "name": "stdout",
          "text": [
            "Ingresa la calificación del primer examen: 60\n",
            "Ingresa la calificación del segundo examen: 40\n",
            "Ingresa la calificación del tercer examen: 87\n",
            "Ingresa la calificación del cuarto examen: 56\n",
            "Ingresa la calificación del quinto examen: 78\n",
            "El promedio final es: 70.25\n"
          ]
        }
      ]
    },
    {
      "cell_type": "markdown",
      "source": [
        "5.- Programa en Python que sirva para el juego del CHINCHAMPU (Piedra, Papel, Tijera) para 1 jugador y la computadora\n",
        "\n"
      ],
      "metadata": {
        "id": "2qyrnAtR6GbN"
      }
    },
    {
      "cell_type": "code",
      "source": [
        "import random\n",
        "print(\"JUEGO DEL CHINCHAMPU\")\n",
        "print(\" 1.-Piedra \\n 2.-Papel \\n 3.-Tijeras\")\n",
        "try:\n",
        "    jugadajg = int(input(\"Ingresa que opcion quieres: \"))\n",
        "    jugadapc = random.randint(1,3)\n",
        "    if jugadapc == 1:\n",
        "        print(\"La computadora eligio piedra\")\n",
        "    else:\n",
        "        if jugadapc == 2:\n",
        "            print(\"La computadora eligio papel\")\n",
        "        else:\n",
        "            print(\"La computadora eligio tijeras\")\n",
        "\n",
        "    if jugadajg == 1:\n",
        "        if jugadapc == 3:\n",
        "            print(\"¡Ganaste!\")\n",
        "        else:\n",
        "            if jugadapc == 2:\n",
        "                print(\"Gana la computadora\")\n",
        "            else:\n",
        "                print(\"Empate\")\n",
        "    else:\n",
        "        if jugadajg == 2:\n",
        "            if jugadapc == 1:\n",
        "                print(\"¡Ganaste!\")\n",
        "            else:\n",
        "                if jugadapc == 3:\n",
        "                    print(\"Gana la computadora\")\n",
        "                else:\n",
        "                    print(\" Empate\")\n",
        "        else:\n",
        "            if jugadajg == 3:\n",
        "                if jugadapc == 2:\n",
        "                    print(\"¡Ganaste!\")\n",
        "                else:\n",
        "                    if jugadapc == 1:\n",
        "                        print(\"Gana la computadora\")\n",
        "                    else:\n",
        "                        print(\"Empate\")\n",
        "            else:\n",
        "                print(\"Jugada no valida\")\n",
        "except:\n",
        "    print(\"La jugada tiene que ser un numero ENTERO entre 1 y 3\")"
      ],
      "metadata": {
        "colab": {
          "base_uri": "https://localhost:8080/"
        },
        "id": "tBdovmAc6Hxt",
        "outputId": "0c041cd2-d930-4b7b-bdc5-20288a173579"
      },
      "execution_count": null,
      "outputs": [
        {
          "output_type": "stream",
          "name": "stdout",
          "text": [
            "JUEGO DEL CHINCHAMPU\n",
            " 1.-Piedra \n",
            " 2.-Papel \n",
            " 3.-Tijeras\n",
            "Ingresa que opcion quieres: faf\n",
            "La jugada tiene que ser un numero ENTERO entre 1 y 3\n"
          ]
        }
      ]
    },
    {
      "cell_type": "markdown",
      "source": [
        "6.- Programa en Python que lea 4 números enteros desplegar cuales el menor, cual es mayor\n",
        "\n"
      ],
      "metadata": {
        "id": "ne52Pcvx6H-N"
      }
    },
    {
      "cell_type": "code",
      "source": [
        "try:\n",
        "    num1 = int(input(\"Ingresa el primer numero entero: \"))\n",
        "    num2 = int(input(\"Ingresa el segundo numero entero: \"))\n",
        "    num3 = int(input(\"Ingresa el tercer numero entero: \"))\n",
        "    num4 = int(input(\"Ingresa el cuarto numero entero: \"))\n",
        "    print(f\"El numero menor es:\", min(num1,num2,num3,num4))\n",
        "    print(f\"El numero mayor es:\", max(num1,num2,num3,num4))\n",
        "except:\n",
        "    print(\"Ingresa un valor numerico de tipo ENTERO\")"
      ],
      "metadata": {
        "colab": {
          "base_uri": "https://localhost:8080/"
        },
        "id": "R5sfb9Fk6Jdl",
        "outputId": "42202a57-6791-45b0-ce94-0943e4646d68"
      },
      "execution_count": null,
      "outputs": [
        {
          "output_type": "stream",
          "name": "stdout",
          "text": [
            "Ingresa el primer numero entero: 54\n",
            "Ingresa el segundo numero entero: 86\n",
            "Ingresa el tercer numero entero: 45\n",
            "Ingresa el cuarto numero entero: 98\n",
            "El numero menor es: 45\n",
            "El numero mayor es: 98\n"
          ]
        }
      ]
    },
    {
      "cell_type": "markdown",
      "source": [
        "7.- Programa en Python que sirva para calcular el área de un triangulo, los datos de entrada deben ser forzosamente de tipo real"
      ],
      "metadata": {
        "id": "Cq_cyVaQ6JrN"
      }
    },
    {
      "cell_type": "code",
      "source": [
        "try:\n",
        "    base = float(input(\"Ingresa la medida de la base del triangulo: \"))\n",
        "    altura = float(input(\"Ingresa la altura del triangulo: \"))\n",
        "    area = (base * altura) / 2\n",
        "    print(f\"El area del triangulo es: {area} \")\n",
        "except:\n",
        "    print(\"Ingresa un valor numerico\")"
      ],
      "metadata": {
        "colab": {
          "base_uri": "https://localhost:8080/"
        },
        "id": "mpiVvdfR6MAE",
        "outputId": "4a22f51c-e9cf-4b6d-803d-0a7fac06438e"
      },
      "execution_count": null,
      "outputs": [
        {
          "output_type": "stream",
          "name": "stdout",
          "text": [
            "Ingresa la medida de la base del triangulo: ad\n",
            "Ingresa un valor numerico\n"
          ]
        }
      ]
    },
    {
      "cell_type": "markdown",
      "source": [
        "8.- Programa en Python que sirva para calcular el área de un circulo\n",
        "\n"
      ],
      "metadata": {
        "id": "gcidoqay6MIN"
      }
    },
    {
      "cell_type": "code",
      "source": [
        "try:\n",
        "    radio = float(input(\"Ingresa el radio del circulo: \"))\n",
        "    area = 3.1416 * pow(radio,2)\n",
        "    print(f\"El area del circulo es: {area}\")\n",
        "except:\n",
        "    print(\"El radio debe ser un valor númerico\")"
      ],
      "metadata": {
        "colab": {
          "base_uri": "https://localhost:8080/"
        },
        "id": "51VkGGhu6N0E",
        "outputId": "bd6b1e49-beb7-4861-c7d3-938c86499fa7"
      },
      "execution_count": null,
      "outputs": [
        {
          "output_type": "stream",
          "name": "stdout",
          "text": [
            "Ingresa el radio del circulo: ra\n",
            "El radio debe ser un valor númerico\n"
          ]
        }
      ]
    },
    {
      "cell_type": "markdown",
      "source": [],
      "metadata": {
        "id": "iLqlBAFsK8-2"
      }
    }
  ]
}