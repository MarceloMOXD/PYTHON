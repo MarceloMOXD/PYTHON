{
  "nbformat": 4,
  "nbformat_minor": 0,
  "metadata": {
    "colab": {
      "provenance": [],
      "authorship_tag": "ABX9TyMDy2vDPf7VQVEU/WV8DyhL",
      "include_colab_link": true
    },
    "kernelspec": {
      "name": "python3",
      "display_name": "Python 3"
    },
    "language_info": {
      "name": "python"
    }
  },
  "cells": [
    {
      "cell_type": "markdown",
      "metadata": {
        "id": "view-in-github",
        "colab_type": "text"
      },
      "source": [
        "<a href=\"https://colab.research.google.com/github/MarceloMOXD/PYTHON/blob/main/Actividad_2.ipynb\" target=\"_parent\"><img src=\"https://colab.research.google.com/assets/colab-badge.svg\" alt=\"Open In Colab\"/></a>"
      ]
    },
    {
      "cell_type": "markdown",
      "source": [
        "# ACTIVIDAD 2\n",
        "Estructuras de control de selección simple\n",
        "Macelo Marquez Ontiveros    368911"
      ],
      "metadata": {
        "id": "ImOveeRQ6evc"
      }
    },
    {
      "cell_type": "markdown",
      "source": [
        "**NOTA: EJERCICIOS (1,2,3 Y 4) PARA SER RESUELTOS USANDO EXCLUSIVAMENTE CONDICIONES SIMPLES**"
      ],
      "metadata": {
        "id": "1s41E8hB890m"
      }
    },
    {
      "cell_type": "markdown",
      "source": [
        "1.- Programa en Python que lea 2 números enteros, usar una condición y analizar los dos números y desplegar cual de los números es el mayor. "
      ],
      "metadata": {
        "id": "tfIGxu5d9WqV"
      }
    },
    {
      "cell_type": "code",
      "source": [
        "num1 = int(input(\"Ingresa un número entero: \"))\n",
        "num2 = int(input(\"Ingresa otro número entero: \"))\n",
        "if num1 > num2:\n",
        "    print(f\"El primer número es el mayor: {num1}\")\n",
        "if num2 > num1:\n",
        "    print(f\"El segundo número es el mayor: {num2}\")"
      ],
      "metadata": {
        "id": "neaBQz_h9bed",
        "colab": {
          "base_uri": "https://localhost:8080/"
        },
        "outputId": "dc26ca7e-e5d7-4a92-b415-025cf0d9a1b7"
      },
      "execution_count": 1,
      "outputs": [
        {
          "output_type": "stream",
          "name": "stdout",
          "text": [
            "Ingresa un número entero: 5\n",
            "Ingresa otro número entero: 3\n",
            "El primer número es el mayor: 5\n"
          ]
        }
      ]
    },
    {
      "cell_type": "markdown",
      "source": [
        "2.-Programa en PythonAlgoritmo que lea 4 calificaciones de un alumno, calcular y desplegar el promedio acompañado de la leyenda \"APROBADO\" o \"REPROBADO\""
      ],
      "metadata": {
        "id": "fn-lRlL19b9t"
      }
    },
    {
      "cell_type": "code",
      "source": [
        "cal1 = float(input(\"Ingresa la primera calificacion: \"))\n",
        "cal2 = float(input(\"Ingresa la segunda calificacion: \"))\n",
        "cal3 = float(input(\"Ingresa la tercera calificacion: \"))\n",
        "cal4 = float(input(\"Ingresa la cuarta calificacion: \"))\n",
        "prom = (cal1+cal2+cal3+cal4) / 4\n",
        "print(f\"Tu promedio es: {prom}\")\n",
        "if prom >= 60:\n",
        "    print(\"APROBADO\")\n",
        "if prom < 60:\n",
        "    print(\"REPROBADO\")"
      ],
      "metadata": {
        "id": "5LH9t6Ac9gjV",
        "colab": {
          "base_uri": "https://localhost:8080/"
        },
        "outputId": "a9dfd552-2344-42e6-b20b-1cd4567bf418"
      },
      "execution_count": 2,
      "outputs": [
        {
          "output_type": "stream",
          "name": "stdout",
          "text": [
            "Ingresa la primera calificacion: 80\n",
            "Ingresa la segunda calificacion: 97\n",
            "Ingresa la tercera calificacion: 68\n",
            "Ingresa la cuarta calificacion: 65\n",
            "Tu promedio es: 77.5\n",
            "APROBADO\n"
          ]
        }
      ]
    },
    {
      "cell_type": "markdown",
      "source": [
        "3.- Programa en PythonAlgoritmo que a través de opciones (1.- HOMBRE 2.- MUJER ) preguntar al usuario cual es su sexo y desplegar la leyenda “HOMBRE ”, “MUJER”"
      ],
      "metadata": {
        "id": "7gVE6OEy9g3l"
      }
    },
    {
      "cell_type": "code",
      "source": [
        "print(\"1.-HOMBRE \\n2.-MUJER\")\n",
        "sexo = int(input(\"¿Cual es tu sexo?: \"))\n",
        "if sexo == 1:\n",
        "    print(\"HOMBRE\")\n",
        "if sexo == 2:\n",
        "    print(\"MUJER\")"
      ],
      "metadata": {
        "id": "TCKtxNER9kyV",
        "colab": {
          "base_uri": "https://localhost:8080/"
        },
        "outputId": "11170641-a092-44e8-fbf9-37b38f298851"
      },
      "execution_count": 3,
      "outputs": [
        {
          "output_type": "stream",
          "name": "stdout",
          "text": [
            "1.-HOMBRE \n",
            "2.-MUJER\n",
            "¿Cual es tu sexo?: 1\n",
            "HOMBRE\n"
          ]
        }
      ]
    },
    {
      "cell_type": "markdown",
      "source": [
        "4.- Programa en Python que lea un número entero, y desplegar si el número es “PAR” o “IMPAR”"
      ],
      "metadata": {
        "id": "cd_ykdLe9lGF"
      }
    },
    {
      "cell_type": "code",
      "source": [
        "num1 = int(input(\"Ingresa un número entero: \"))\n",
        "if (num1%2) == 0:\n",
        "    print(\"PAR\")\n",
        "if (num1%2) != 0:\n",
        "    print(\"IMPAR\")"
      ],
      "metadata": {
        "id": "OlG4chLa9m-l",
        "colab": {
          "base_uri": "https://localhost:8080/"
        },
        "outputId": "c96b6db9-3b99-404b-c43e-0d42fc1c5214"
      },
      "execution_count": 4,
      "outputs": [
        {
          "output_type": "stream",
          "name": "stdout",
          "text": [
            "Ingresa un número entero: 15\n",
            "IMPAR\n"
          ]
        }
      ]
    },
    {
      "cell_type": "markdown",
      "source": [
        "**NOTA: EJERCICIOS (5,6,7 y 8) PARA SER RESUELTOS USANDO CONDICIÓN COMPUESTA**"
      ],
      "metadata": {
        "id": "Vm_TQc9pLmoX"
      }
    },
    {
      "cell_type": "markdown",
      "source": [
        "5.- Programa en Python que lea 2 números enteros, usar una condición y analizar los dos números y desplegar cual de los números es el mayor."
      ],
      "metadata": {
        "id": "qrjUqk3TLvBG"
      }
    },
    {
      "cell_type": "code",
      "source": [
        "num1 = int(input(\"Ingresa un número entero: \"))\n",
        "num2 = int(input(\"Ingresa otro número entero: \"))\n",
        "if num1 > num2:\n",
        "    print(f\"el primer número es el mayor: {num1}\")\n",
        "else:\n",
        "    print(f\"El segundo número es el mayor: {num2}\")"
      ],
      "metadata": {
        "id": "u_7SJemGLvyG",
        "colab": {
          "base_uri": "https://localhost:8080/"
        },
        "outputId": "c684f8e5-3e50-44ce-9add-69e4a8adcd51"
      },
      "execution_count": 5,
      "outputs": [
        {
          "output_type": "stream",
          "name": "stdout",
          "text": [
            "Ingresa un número entero: 15\n",
            "Ingresa otro número entero: 12\n",
            "el primer número es el mayor: 15\n"
          ]
        }
      ]
    },
    {
      "cell_type": "markdown",
      "source": [
        "6.- Programa en Python que lea 4 calificaciones de un alumno, calcular y desplegar el promedio acompañado de la leyenda APROBADO o REPROBADO"
      ],
      "metadata": {
        "id": "JMFR2L0sLw1G"
      }
    },
    {
      "cell_type": "code",
      "source": [
        "cal1 = float(input(\"Ingresa la primera calificacion: \"))\n",
        "cal2 = float(input(\"Ingresa la segunda calificacion: \"))\n",
        "cal3 = float(input(\"Ingresa la tercera calificacion: \"))\n",
        "cal4 = float(input(\"Ingresa la cuarta calificacion: \"))\n",
        "prom = (cal1+cal2+cal3+cal4) / 4\n",
        "print(f\"Tu promedio es: {prom}\")\n",
        "if prom >= 60:\n",
        "    print(\"APROBADO\")\n",
        "else:\n",
        "    print(\"REPROBADO\")"
      ],
      "metadata": {
        "id": "eyf58c62LzLm",
        "colab": {
          "base_uri": "https://localhost:8080/"
        },
        "outputId": "dff106c3-849f-4bd8-8c06-499b2402782f"
      },
      "execution_count": 7,
      "outputs": [
        {
          "output_type": "stream",
          "name": "stdout",
          "text": [
            "Ingresa la primera calificacion: 98\n",
            "Ingresa la segunda calificacion: 66\n",
            "Ingresa la tercera calificacion: 55\n",
            "Ingresa la cuarta calificacion: 89\n",
            "Tu promedio es: 77.0\n",
            "APROBADO\n"
          ]
        }
      ]
    },
    {
      "cell_type": "markdown",
      "source": [
        "7.- Programa en Python que a través de opciones (1.- HOMBRE 2.- MUJER ) preguntar al usuario cual es su sexo y desplegar la leyenda “HOMBRE ”, “MUJER”"
      ],
      "metadata": {
        "id": "WGH6HJPtLzou"
      }
    },
    {
      "cell_type": "code",
      "source": [
        "print(\"1.-HOMBRE \\n2.-MUJER\")\n",
        "sexo = int(input(\"¿Cual es tu sexo?: \"))\n",
        "if sexo == 1:\n",
        "    print(\"HOMBRE\")\n",
        "else:\n",
        "    print(\"MUJER\")"
      ],
      "metadata": {
        "id": "GDj0rG8KL8hm",
        "colab": {
          "base_uri": "https://localhost:8080/"
        },
        "outputId": "f8a4d16d-24a4-4fec-cf5b-659bed738686"
      },
      "execution_count": 8,
      "outputs": [
        {
          "output_type": "stream",
          "name": "stdout",
          "text": [
            "1.-HOMBRE \n",
            "2.-MUJER\n",
            "¿Cual es tu sexo?: 2\n",
            "MUJER\n"
          ]
        }
      ]
    },
    {
      "cell_type": "markdown",
      "source": [
        "8.- Programa en Python que lea un número entero, y desplegar si el número es “PAR” o “IMPAR” NOTA: EJERCICIOS PARA SER RESUELTOS USANDO EXCLUSIVAMENTE CONDICIONES COMPUESTO"
      ],
      "metadata": {
        "id": "hyY4UUAOL86W"
      }
    },
    {
      "cell_type": "code",
      "source": [
        "num1 = int(input(\"Ingresa un número entero: \"))\n",
        "if (num1%2) == 0:\n",
        "    print(\"PAR\")\n",
        "else:\n",
        "    print(\"IMPAR\")"
      ],
      "metadata": {
        "id": "l390cvn1MIV9",
        "colab": {
          "base_uri": "https://localhost:8080/"
        },
        "outputId": "ed516811-2a6b-47ea-d48a-830ad603fcb3"
      },
      "execution_count": 10,
      "outputs": [
        {
          "output_type": "stream",
          "name": "stdout",
          "text": [
            "Ingresa un número entero: 56\n",
            "PAR\n"
          ]
        }
      ]
    }
  ]
}