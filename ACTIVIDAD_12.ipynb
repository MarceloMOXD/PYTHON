{
  "nbformat": 4,
  "nbformat_minor": 0,
  "metadata": {
    "colab": {
      "provenance": [],
      "mount_file_id": "1kyA36aFxll3weGuZ6NxxzkcbGGps6_jB",
      "authorship_tag": "ABX9TyO7QYl8U/80Jn7yl06I93Dl",
      "include_colab_link": true
    },
    "kernelspec": {
      "name": "python3",
      "display_name": "Python 3"
    },
    "language_info": {
      "name": "python"
    }
  },
  "cells": [
    {
      "cell_type": "markdown",
      "metadata": {
        "id": "view-in-github",
        "colab_type": "text"
      },
      "source": [
        "<a href=\"https://colab.research.google.com/github/MarceloMOXD/PYTHON/blob/main/ACTIVIDAD_12.ipynb\" target=\"_parent\"><img src=\"https://colab.research.google.com/assets/colab-badge.svg\" alt=\"Open In Colab\"/></a>"
      ]
    },
    {
      "cell_type": "code",
      "source": [
        "!pip install pyyaml"
      ],
      "metadata": {
        "id": "-HYD-tEKMiyz",
        "colab": {
          "base_uri": "https://localhost:8080/"
        },
        "outputId": "fa83c4d9-d471-4cae-ab5a-436ae81ada29"
      },
      "execution_count": null,
      "outputs": [
        {
          "output_type": "stream",
          "name": "stdout",
          "text": [
            "Looking in indexes: https://pypi.org/simple, https://us-python.pkg.dev/colab-wheels/public/simple/\n",
            "Requirement already satisfied: pyyaml in /usr/local/lib/python3.10/dist-packages (6.0)\n",
            "\u001b[2K     \u001b[90m━━━━━━━━━━━━━━━━━━━━━━━━━━━━━━━━━━━━━━━━\u001b[0m \u001b[32m57.7/57.7 kB\u001b[0m \u001b[31m2.1 MB/s\u001b[0m eta \u001b[36m0:00:00\u001b[0m\n",
            "\u001b[2K     \u001b[90m━━━━━━━━━━━━━━━━━━━━━━━━━━━━━━━━━━━━━━━━\u001b[0m \u001b[32m1.6/1.6 MB\u001b[0m \u001b[31m23.8 MB/s\u001b[0m eta \u001b[36m0:00:00\u001b[0m\n",
            "\u001b[?25h"
          ]
        }
      ]
    },
    {
      "cell_type": "code",
      "execution_count": null,
      "metadata": {
        "id": "jlvoSMmOFAIw"
      },
      "outputs": [],
      "source": [
        "import sys\n",
        "import os\n",
        "from IPython.display import clear_output\n",
        "import random\n",
        "import json\n",
        "import yaml\n",
        "import pandas as pd"
      ]
    },
    {
      "cell_type": "code",
      "source": [
        "from google.colab import drive\n",
        "drive.mount('/content/drive')"
      ],
      "metadata": {
        "colab": {
          "base_uri": "https://localhost:8080/"
        },
        "id": "Vwul19aJrvQr",
        "outputId": "3d0c55dd-3b7a-4d23-fa4b-fbbc3760c5bc"
      },
      "execution_count": 108,
      "outputs": [
        {
          "output_type": "stream",
          "name": "stdout",
          "text": [
            "Drive already mounted at /content/drive; to attempt to forcibly remount, call drive.mount(\"/content/drive\", force_remount=True).\n"
          ]
        }
      ]
    },
    {
      "cell_type": "code",
      "source": [
        "ruta='/content/drive/MyDrive/colab'"
      ],
      "metadata": {
        "id": "U9eQYFLLr1sd"
      },
      "execution_count": 114,
      "outputs": []
    },
    {
      "cell_type": "code",
      "source": [
        "import sys\n",
        "sys.path.append(ruta)"
      ],
      "metadata": {
        "id": "zCIP7ZSesD_f"
      },
      "execution_count": 115,
      "outputs": []
    },
    {
      "cell_type": "code",
      "source": [
        "def valinum_int(msge,ri=0,rf=9999999,msgError1=\"NUMERO FUERA DEL RANGO\",msgError2=\"INGRESA UN VALOR NUMERICO\"):\n",
        "    while True:\n",
        "        try:\n",
        "            num = int(input(f\"{msge}: \"))\n",
        "        except:\n",
        "            print (msgError2)\n",
        "            continue\n",
        "        if num < ri or num > rf:\n",
        "            print(f\"{msgError1} ({ri} a {rf})\")\n",
        "            continue\n",
        "        else:\n",
        "            break\n",
        "    return num"
      ],
      "metadata": {
        "id": "t1tk900asOyo"
      },
      "execution_count": null,
      "outputs": []
    },
    {
      "cell_type": "code",
      "source": [
        "def agregar_aut(lista_dic):\n",
        "    clear_output()\n",
        "    registro = [\"ID\",\"Nombre\",\"Ap.Paterno\",\"Ap.Materno\",\"Puesto\",\"Sexo\"]\n",
        "    nombre_h=[\"Marcelo\",\"Isai\", \"Alexis\",\"Roberto\",\"Jose\",\"Abraham\",\"Julio\"]\n",
        "    nombre_m=[\"Samantha\",\"Nancy\",\"Maria\",\"Karla\",\"Alexa\",\"Denisse\",\"Ana\"]\n",
        "    apellidos=[\"Marquez\",\"Arredondo\",\"Perez\",\"Meraz\",\"Siqueiros\",\"Beristain\",\"Ontiveros\",\"Urbalejo\",\"Quintero\",\"Chavez\",\"Navarro\"]\n",
        "    puesto=[\"Supervisor\",\"Encargad@\",\"Conserje\",\"Gerente\",\"Guardia\",\"Empleado Gral\",\"Jefe\"]\n",
        "    sexo=[\"H\",\"M\"]\n",
        "    for i in range(10):\n",
        "        lista_datos=[]\n",
        "        repetido = False\n",
        "        while repetido == False:\n",
        "            clear_output()\n",
        "            id = random.randint(300000,400000)\n",
        "            repetido = verificar_id(lista_dic,id)\n",
        "        lista_datos.append(id)\n",
        "        h_o_m =random.randint(1,2)\n",
        "        cant_nom = random.randint(1,2)\n",
        "        if h_o_m == 1:\n",
        "            if cant_nom == 1:\n",
        "                lista_datos.append(random.choice(nombre_h))\n",
        "            else:\n",
        "                nombre = f\"{random.choice(nombre_h)} {random.choice(nombre_h)}\"\n",
        "                lista_datos.append(nombre)\n",
        "        else:\n",
        "            if cant_nom == 1:\n",
        "                lista_datos.append(random.choice(nombre_m))\n",
        "            else:\n",
        "                nombre = f\"{random.choice(nombre_m)} {random.choice(nombre_m)}\"\n",
        "                lista_datos.append(nombre)\n",
        "        lista_datos.append(random.choice(apellidos))\n",
        "        lista_datos.append(random.choice(apellidos))\n",
        "        lista_datos.append(random.choice(puesto))\n",
        "        if h_o_m == 1:\n",
        "            lista_datos.append(sexo[0])\n",
        "        else:\n",
        "            lista_datos.append(sexo[1])\n",
        "        lista_dic.append(dict(zip(registro,lista_datos)))"
      ],
      "metadata": {
        "id": "pMgxmcGrMOsE"
      },
      "execution_count": null,
      "outputs": []
    },
    {
      "cell_type": "code",
      "source": [
        "def eliminar(lista_dic):\n",
        "    clear_output()\n",
        "    encontrado = False\n",
        "    id_eliminar = valinum_int(\"Ingresa el ID de la persona que deseas eliminar el registro: \")\n",
        "    for i, diccionario in enumerate(lista_dic):\n",
        "        if diccionario.get(\"ID\") == id_eliminar:\n",
        "            print(f\"Se elimino a la persona con el ID: {id_eliminar}\")\n",
        "            del lista_dic[i]\n",
        "            encontrado = True\n",
        "    if not encontrado:\n",
        "        print(f\"No se encontro ningun registro con el ID {id_eliminar}\")"
      ],
      "metadata": {
        "id": "sF9f3GKwxN8B"
      },
      "execution_count": null,
      "outputs": []
    },
    {
      "cell_type": "code",
      "source": [
        "def verificar_id(lista_dic,id):\n",
        "    for diccionario in lista_dic:\n",
        "        if diccionario.get(\"ID\") == id:\n",
        "            print(\"Ya existe un registro con ese ID, prueba otro\")\n",
        "            return False\n",
        "    return True"
      ],
      "metadata": {
        "id": "NNyYQiDAVrjM"
      },
      "execution_count": null,
      "outputs": []
    },
    {
      "cell_type": "code",
      "source": [
        "def imprimir(lista_dic,check_ord):\n",
        "    clear_output()\n",
        "    op = random.randint(1,3)\n",
        "    lista_ord = sorted(lista_dic, key=lambda x: x[\"ID\"])\n",
        "    if check_ord == 1:\n",
        "        salida=pd.DataFrame(lista_ord)\n",
        "        print(salida)\n",
        "    else:\n",
        "        salida=pd.DataFrame(lista_dic)\n",
        "        print(salida)"
      ],
      "metadata": {
        "id": "uZM8oH3zxptI"
      },
      "execution_count": null,
      "outputs": []
    },
    {
      "cell_type": "code",
      "source": [
        "def ordenar_dic(lista_dic,check_ord):\n",
        "    clear_output()\n",
        "    if check_ord == 1:\n",
        "        print(\"La lista ya se encuentra ordenada\")\n",
        "    else:\n",
        "        print(\"Se ordeno la lista\")\n",
        "        return 1"
      ],
      "metadata": {
        "id": "haH2J_-KyFxh"
      },
      "execution_count": null,
      "outputs": []
    },
    {
      "cell_type": "code",
      "source": [
        "def buscar(lista_dic):\n",
        "    clear_output()\n",
        "    dic_encontrado = []\n",
        "    encontrado = False\n",
        "    id_busq = valinum_int(\"Ingresa el ID de la persona que buscas: \",300000,400000)\n",
        "    for diccionario in lista_dic:\n",
        "        if diccionario.get(\"ID\") == id_busq:\n",
        "            print(f\"Se encontro un registro con el ID: {id_busq}\")\n",
        "            dic_encontrado.append(diccionario)\n",
        "            salida=pd.DataFrame(dic_encontrado)\n",
        "            print(salida)\n",
        "            encontrado = True\n",
        "    if not encontrado:\n",
        "        print(f\"No se encontro ningun registro con el ID {id_busq}\")"
      ],
      "metadata": {
        "id": "_AFk-McByUk7"
      },
      "execution_count": null,
      "outputs": []
    },
    {
      "cell_type": "code",
      "source": [
        "def buscar_appat(lista_dic):\n",
        "    clear_output()\n",
        "    dic_encontrado = []\n",
        "    encontrado = False\n",
        "    appat_busq = input(\"Ingresa el apellido que buscas: \")\n",
        "    for diccionario in lista_dic:\n",
        "        if diccionario.get(\"Ap.Paterno\") == appat_busq:\n",
        "            dic_encontrado.append(diccionario)\n",
        "            encontrado = True\n",
        "    if encontrado == True:\n",
        "        print(f\"Se encontro registros con el apellido: {appat_busq}\")\n",
        "        salida=pd.DataFrame(dic_encontrado)\n",
        "        print(salida)\n",
        "    if not encontrado:\n",
        "        print(f\"No se encontro ningun registro con el apellido {appat_busq}\")"
      ],
      "metadata": {
        "id": "alWZcftoyvsz"
      },
      "execution_count": null,
      "outputs": []
    },
    {
      "cell_type": "code",
      "source": [
        "def generar_archivo(lista_dic):\n",
        "    clear_output()\n",
        "    nombre_archivo = input(\"Ingresa el nombre con el que deseas guardar el archivo: \")\n",
        "    data = pd.DataFrame(lista_dic)\n",
        "    data.to_excel(f'/content/drive/MyDrive/colab/ACTIVIDAD_12/{nombre_archivo}.xlsx', index=False)\n",
        "    data.to_csv(f'/content/drive/MyDrive/colab/ACTIVIDAD_12/{nombre_archivo}.csv', index=False)\n",
        "    data.to_markdown(f'/content/drive/MyDrive/colab/ACTIVIDAD_12/{nombre_archivo}.md', index=False)"
      ],
      "metadata": {
        "id": "beryHwxr4dxb"
      },
      "execution_count": 94,
      "outputs": []
    },
    {
      "cell_type": "code",
      "source": [
        "def cargar_archivo():\n",
        "    clear_output()\n",
        "    path = \"/content/drive/MyDrive/proyecto/holamundo.txt\"\n",
        "    with open(path, \"r\") as f:\n",
        "        contenido = f.read()\n",
        "    print(\"SE CARGO EL ARCHIVO CORRECTAMENTE\")\n",
        "    return contenido"
      ],
      "metadata": {
        "id": "lWH9foQP_SBV"
      },
      "execution_count": null,
      "outputs": []
    },
    {
      "cell_type": "code",
      "source": [
        "def imprimir_archivo(contenido):\n",
        "    clear_output()\n",
        "    print(\"CONTENIDO DEL ARCHIVO: \")\n",
        "    print(contenido)"
      ],
      "metadata": {
        "id": "wGLlq3dJBaLD"
      },
      "execution_count": null,
      "outputs": []
    },
    {
      "cell_type": "code",
      "source": [
        "def menu():\n",
        "    print(\"MENU:\")\n",
        "    print(\"1.-AGREGAR (AUTOMATICO 10)\")\n",
        "    print(\"2.-ELIMINAR{ID}\")\n",
        "    print(\"3.-IMPRIMIR LISTA(tabla)\")\n",
        "    print(\"4.-BUSCAR{ID}\")\n",
        "    print(\"5.-BUSCAR{appat} todas las coincidencias\")\n",
        "    print(\"6.-ORDENAR{ID}\")\n",
        "    print(\"7.-GENERAR ARCHIVO{ID}\")\n",
        "    print(\"8.-CARGAR ARCHIVO{ID}\")\n",
        "    print(\"9.-IMPRIMIR ARCHIVO{ID}\")\n",
        "    print(\"10.-BORRAR TODA LA LISTA{ID}\")\n",
        "    print(\"0.-SALIR\")"
      ],
      "metadata": {
        "id": "XcGQvC9rHbTl"
      },
      "execution_count": null,
      "outputs": []
    },
    {
      "cell_type": "code",
      "source": [
        "#EJECUCION DE TODAS LAS FUNCIONES(MAIN)\n",
        "lista_dic =[]\n",
        "check_ord = 0\n",
        "while True:\n",
        "    menu()\n",
        "    op = valinum_int(\"Ingresa la funcion que deseas utilizar: \")\n",
        "    if op == 1:\n",
        "        agregar_aut(lista_dic)\n",
        "        check_ord = 0\n",
        "        print(\"SE AGREGARON CORRECTAMENTE LOS REGISTROS\")\n",
        "        input(\"Presiona ENTER para borrar la pantalla\")\n",
        "        clear_output()\n",
        "        continue\n",
        "    elif op == 2:\n",
        "        eliminar(lista_dic)\n",
        "        input(\"Presiona ENTER para borrar la pantalla\")\n",
        "        clear_output()\n",
        "        continue\n",
        "    elif op == 3:\n",
        "        imprimir(lista_dic,check_ord)\n",
        "        input(\"Presiona ENTER para borrar la pantalla\")\n",
        "        clear_output()\n",
        "        continue\n",
        "    elif op == 4:\n",
        "        buscar(lista_dic)\n",
        "        input(\"Presiona ENTER para borrar la pantalla\")\n",
        "        clear_output()\n",
        "        continue\n",
        "    elif op == 5:\n",
        "        buscar_appat(lista_dic)\n",
        "        input(\"Presiona ENTER para borrar la pantalla\")\n",
        "        clear_output()\n",
        "        continue\n",
        "    elif op == 6:\n",
        "        check_ord = ordenar_dic(lista_dic,check_ord)\n",
        "        input(\"Presiona ENTER para borrar la pantalla\")\n",
        "        clear_output()\n",
        "        continue\n",
        "    elif op == 7:\n",
        "        generar_archivo(lista_dic)\n",
        "        input(\"Presiona ENTER para borrar la pantalla\")\n",
        "        clear_output()\n",
        "        continue\n",
        "    elif op == 8:\n",
        "        contenido_arch = cargar_archivo()\n",
        "        input(\"Presiona ENTER para borrar la pantalla\")\n",
        "        clear_output()\n",
        "        continue\n",
        "    elif op == 9:\n",
        "        imprimir_archivo(contenido_arch)\n",
        "        input(\"Presiona ENTER para borrar la pantalla\")\n",
        "        clear_output()\n",
        "        continue\n",
        "    elif op == 10:\n",
        "        lista_dic = []\n",
        "    elif op == 0:\n",
        "        break"
      ],
      "metadata": {
        "id": "_by_niOsLO6c",
        "colab": {
          "base_uri": "https://localhost:8080/"
        },
        "outputId": "1089c09c-7905-473e-aa8d-72e875a77a28"
      },
      "execution_count": null,
      "outputs": [
        {
          "output_type": "stream",
          "name": "stdout",
          "text": [
            "        ID           Nombre Ap.Paterno Ap.Materno         Puesto Sexo\n",
            "0   355465      Maria Maria    Navarro   Urbalejo  Empleado Gral    M\n",
            "1   376551    Roberto Julio   Quintero  Arredondo        Guardia    H\n",
            "2   395426      Nancy Nancy      Perez      Meraz       Conserje    M\n",
            "3   335388          Denisse     Chavez  Beristain           Jefe    M\n",
            "4   332600      Alexa Maria      Perez      Perez        Gerente    M\n",
            "5   334678    Roberto Julio      Perez      Meraz           Jefe    H\n",
            "6   387582       Isai Julio     Chavez   Quintero      Encargad@    H\n",
            "7   307768             Jose    Navarro  Ontiveros        Guardia    H\n",
            "8   340426             Jose  Siqueiros   Quintero        Gerente    H\n",
            "9   301599       Isai Julio    Navarro   Quintero        Guardia    H\n",
            "10  375862          Denisse  Arredondo  Siqueiros  Empleado Gral    M\n",
            "11  339579      Alexis Jose     Chavez   Quintero      Encargad@    H\n",
            "12  371249            Alexa    Navarro  Beristain  Empleado Gral    M\n",
            "13  399593      Maria Alexa      Perez    Marquez       Conserje    M\n",
            "14  344840          Abraham  Siqueiros  Beristain     Supervisor    H\n",
            "15  348847            Alexa  Beristain      Perez        Gerente    M\n",
            "16  370652          Roberto      Meraz      Perez     Supervisor    H\n",
            "17  310364  Roberto Abraham  Beristain    Marquez  Empleado Gral    H\n",
            "18  387643              Ana    Navarro    Navarro       Conserje    M\n",
            "19  388785  Marcelo Roberto  Siqueiros      Meraz     Supervisor    H\n"
          ]
        }
      ]
    }
  ]
}