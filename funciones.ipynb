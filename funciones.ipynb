{
  "nbformat": 4,
  "nbformat_minor": 0,
  "metadata": {
    "colab": {
      "provenance": [],
      "authorship_tag": "ABX9TyOnO0VQai1YIrmp9aCycnz9",
      "include_colab_link": true
    },
    "kernelspec": {
      "name": "python3",
      "display_name": "Python 3"
    },
    "language_info": {
      "name": "python"
    }
  },
  "cells": [
    {
      "cell_type": "markdown",
      "metadata": {
        "id": "view-in-github",
        "colab_type": "text"
      },
      "source": [
        "<a href=\"https://colab.research.google.com/github/MarceloMOXD/PYTHON/blob/main/funciones.ipynb\" target=\"_parent\"><img src=\"https://colab.research.google.com/assets/colab-badge.svg\" alt=\"Open In Colab\"/></a>"
      ]
    },
    {
      "cell_type": "code",
      "execution_count": null,
      "metadata": {
        "id": "rH5UXOobbjH4"
      },
      "outputs": [],
      "source": [
        "def valinum_int(msge,ri=0,rf=9999999,msgError1=\"NUMERO FUERA DEL RANGO\",msgError2=\"INGRESA UN VALOR NUMERICO\"):\n",
        "    while True:\n",
        "        try:\n",
        "            num = int(input(f\"{msge}: \"))\n",
        "        except:\n",
        "            print (msgError2)\n",
        "            continue\n",
        "        if num < ri or num > rf:\n",
        "            print(f\"{msgError1} ({ri} a {rf})\")\n",
        "            continue\n",
        "        else:\n",
        "            break\n",
        "    return num"
      ]
    },
    {
      "cell_type": "code",
      "source": [
        "def valinum_float(msge,msgError2=\"INGRESA UN VALOR NUMERICO FLOTANTE\"):\n",
        "    while True:\n",
        "        try:\n",
        "            num = float(input(f\"{msge}\"))\n",
        "        except:\n",
        "            print (msgError2)\n",
        "            continue\n",
        "        else:\n",
        "            break\n",
        "    return num"
      ],
      "metadata": {
        "id": "BPU6iav2tkNb"
      },
      "execution_count": null,
      "outputs": []
    }
  ]
}