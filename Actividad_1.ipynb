{
  "nbformat": 4,
  "nbformat_minor": 0,
  "metadata": {
    "colab": {
      "provenance": [],
      "authorship_tag": "ABX9TyP4E+bjzKwTW1bVMel7MNm/",
      "include_colab_link": true
    },
    "kernelspec": {
      "name": "python3",
      "display_name": "Python 3"
    },
    "language_info": {
      "name": "python"
    }
  },
  "cells": [
    {
      "cell_type": "markdown",
      "metadata": {
        "id": "view-in-github",
        "colab_type": "text"
      },
      "source": [
        "<a href=\"https://colab.research.google.com/github/MarceloMOXD/PYTHON/blob/main/Actividad_1.ipynb\" target=\"_parent\"><img src=\"https://colab.research.google.com/assets/colab-badge.svg\" alt=\"Open In Colab\"/></a>"
      ]
    },
    {
      "cell_type": "markdown",
      "source": [
        "# ACTIVIDAD 1\n",
        "Marcelo Marquez Ontiveros 368911"
      ],
      "metadata": {
        "id": "XCIpLPKsY_GO"
      }
    },
    {
      "cell_type": "markdown",
      "source": [
        "1.-Programa en Python Mostrar un mensaje que diga \"HOLA MUNDO\" en un solo renglon usando 2 print"
      ],
      "metadata": {
        "id": "MJGXxoRuKx9D"
      }
    },
    {
      "cell_type": "code",
      "execution_count": null,
      "metadata": {
        "id": "cojSg_4UKIrT"
      },
      "outputs": [],
      "source": [
        "print (\"HOLA\",end=\" \")\n",
        "print (\"MUNDO\")"
      ]
    },
    {
      "cell_type": "markdown",
      "source": [
        "2.- Programa en Python que lea 2 números, realizar la suma y desplegar la suma de los 2 números"
      ],
      "metadata": {
        "id": "FiFywlyVLSaV"
      }
    },
    {
      "cell_type": "code",
      "source": [
        "num1 = float(input(\"Escribe el primer numero:\"))\n",
        "num2 = float(input(\"Escribe el segundo numero:\"))\n",
        "suma= num1 + num2\n",
        "print(f\"El resultado de la suma de {num1} + {num2} es: {suma}\")"
      ],
      "metadata": {
        "id": "pJ6UyMgzLeeQ"
      },
      "execution_count": null,
      "outputs": []
    },
    {
      "cell_type": "markdown",
      "source": [
        "3.-Programa en Python que lea 2 números y realice las 4 operaciones basicas"
      ],
      "metadata": {
        "id": "i3u4rY6HSUdT"
      }
    },
    {
      "cell_type": "code",
      "source": [
        "num1 = float(input(\"Escribe el primer numero:\"))\n",
        "num2 = float(input(\"Escribe el segundo numero:\"))\n",
        "suma = num1 + num2\n",
        "resta = num1 - num2\n",
        "multi = num1 * num2\n",
        "division = num1 / num2\n",
        "print(f\"El resultado de la suma de {num1} + {num2} es: {suma}\")\n",
        "print(f\"El resultado de la resta de {num1} - {num2} es: {resta}\")\n",
        "print(f\"El resultado de la suma de {num1} x {num2} es: {multi}\")\n",
        "print(f\"El resultado de la suma de {num1} / {num2} es: {division}\")\n"
      ],
      "metadata": {
        "id": "oE13F9vrSloM"
      },
      "execution_count": null,
      "outputs": []
    },
    {
      "cell_type": "markdown",
      "source": [
        "4.- Programa en Python que sirva para calcular el área de un triángulo"
      ],
      "metadata": {
        "id": "Svqs9mWNTalv"
      }
    },
    {
      "cell_type": "code",
      "source": [
        "base = float(input(\"Ingresa la base del triangulo:\"))\n",
        "altura = float(input(\"Ingresa la altura del triangulo:\"))\n",
        "area = (base * altura) /2\n",
        "print (\"Area = (Base x Altura) / 2\")\n",
        "print(f\"El area del triangulo ({base} x {altura} / 2) es: {area}\")"
      ],
      "metadata": {
        "id": "d_IQtX_OTmlT"
      },
      "execution_count": null,
      "outputs": []
    },
    {
      "cell_type": "markdown",
      "source": [
        "5.- Programa en Python que lea una medida en centimetros y desplegar la misma medida pero convertida en pies y pulgadas"
      ],
      "metadata": {
        "id": "Tgprb38qUy0U"
      }
    },
    {
      "cell_type": "code",
      "source": [
        "med_cent = float(input(\"Ingresa la medida en centimetros:\"))\n",
        "med_pies = med_cent / 30.48\n",
        "med_pulg = med_cent / 2.54\n",
        "print(f\"{med_cent} cm en pies son: {med_pies} ft\")\n",
        "print(f\"{med_cent} cm en pulgadas son: {med_pulg} in\")\n"
      ],
      "metadata": {
        "id": "LU11MxnUU72q"
      },
      "execution_count": null,
      "outputs": []
    },
    {
      "cell_type": "markdown",
      "source": [
        "6.-Programa en Python que lea una temperatura en grados centigrados y desplegarla en Grados Farenheit y grados kelvin"
      ],
      "metadata": {
        "id": "G9kFBQv2WhBk"
      }
    },
    {
      "cell_type": "code",
      "source": [
        "centigrados = float(input(\"Ingresa la temperatura en centigrados:\"))\n",
        "fahrenheit = (centigrados * (9/5)) +  32\n",
        "kelvin = centigrados + 273.15\n",
        "print(f\"{centigrados} centigrados en grados Fahrenheit son: {fahrenheit} F\")\n",
        "print(f\"{centigrados} centigrados en grados Kelvin son: {kelvin} K\")"
      ],
      "metadata": {
        "id": "e2kxExCGWucY"
      },
      "execution_count": null,
      "outputs": []
    },
    {
      "cell_type": "markdown",
      "source": [
        "7.-Programa en Python que lea 4 calificaciones de un alumno, desplegar el promedio del alumno"
      ],
      "metadata": {
        "id": "OhjpLDJDYB2Z"
      }
    },
    {
      "cell_type": "code",
      "source": [
        "cal1 = float(input(\"Ingresa la primera calificacion:\"))\n",
        "cal2 = float(input(\"Ingresa la segunda calificacion:\"))\n",
        "cal3 = float(input(\"Ingresa la tercera calificacion:\"))\n",
        "cal4 = float(input(\"Ingresa la cuarta calificacion:\"))\n",
        "prom = (cal1+cal2+cal3+cal4) / 4\n",
        "print (\"El promedio del alumno es: \",prom)"
      ],
      "metadata": {
        "id": "V1_z-pgsYMJV"
      },
      "execution_count": null,
      "outputs": []
    }
  ]
}