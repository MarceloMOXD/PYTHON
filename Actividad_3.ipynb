{
  "nbformat": 4,
  "nbformat_minor": 0,
  "metadata": {
    "colab": {
      "provenance": [],
      "authorship_tag": "ABX9TyMiLvblXdexq72ltUq3e8UM",
      "include_colab_link": true
    },
    "kernelspec": {
      "name": "python3",
      "display_name": "Python 3"
    },
    "language_info": {
      "name": "python"
    }
  },
  "cells": [
    {
      "cell_type": "markdown",
      "metadata": {
        "id": "view-in-github",
        "colab_type": "text"
      },
      "source": [
        "<a href=\"https://colab.research.google.com/github/MarceloMOXD/PYTHON/blob/main/Actividad_3.ipynb\" target=\"_parent\"><img src=\"https://colab.research.google.com/assets/colab-badge.svg\" alt=\"Open In Colab\"/></a>"
      ]
    },
    {
      "cell_type": "markdown",
      "source": [
        "# ACTIVIDAD 3\n",
        "REALIZA LOS SIGUIENTES EJERCICIOS USANDO LA FORMA ADECUADA Y OPTIMIZANDO LOS PROCESOS USANDO EL CONTROL DE FLUJO DE MANERA MAS ADECUADA\n",
        "\n"
      ],
      "metadata": {
        "id": "I6s9HtDA-IXW"
      }
    },
    {
      "cell_type": "markdown",
      "source": [
        "1.- Algoritmo que lea 3 calificaciones calcule el promedio del alumno y desplegar: \n",
        "\n",
        "Si prom < 30 Repetir \n",
        "\n",
        "Si prom >=30 y prom <60 extraordinario \n",
        "\n",
        "Si prom >=60 y prom <70 suficiente \n",
        "\n",
        "Si prom >=70 y prom <80 Regular \n",
        "\n",
        "Si prom >=80 y prom <90 bien \n",
        "\n",
        "Si prom >=90 y prom <98 muy bien \n",
        "\n",
        "Si prom >=98 y prom <=100 excelente \n",
        "\n",
        "Si prom >100 Error en promedio \n",
        "\n",
        "Realizar el algoritmo optimizado"
      ],
      "metadata": {
        "id": "WnNBcRzG-Wav"
      }
    },
    {
      "cell_type": "code",
      "source": [
        "cal1 = float(input(\"Escribe la primera calificación: \"))\n",
        "cal2 = float(input(\"Escribe la segunda calificación: \"))\n",
        "cal3 = float(input(\"Escribe la tercera calificación: \"))\n",
        "prom = (cal1 + cal2 +cal3) / 3\n",
        "print(f\"Tu promedio es: {prom}\")\n",
        "\n",
        "if prom >= 80:\n",
        "    if prom >= 98:\n",
        "        if prom > 100:\n",
        "            print(\"Error en el promedio\")\n",
        "        else:\n",
        "            print(\"Excelente\")\n",
        "    else:\n",
        "        if prom >= 90:\n",
        "            print(\"Muy bien\")\n",
        "        else:\n",
        "            print(\"Bien\")\n",
        "else:\n",
        "    if prom >= 60:\n",
        "        if prom >= 70:\n",
        "            print(\"Regular\")\n",
        "        else:\n",
        "            print(\"Suficiente\")\n",
        "    else:\n",
        "        if prom >= 30:\n",
        "            print(\"Extraordinario\")\n",
        "        else:\n",
        "            print(\"Repetir\")\n",
        "        "
      ],
      "metadata": {
        "id": "eAptcnPL-Ztn",
        "colab": {
          "base_uri": "https://localhost:8080/"
        },
        "outputId": "12aa362d-8bd8-42b0-99a3-a14c413c7860"
      },
      "execution_count": 1,
      "outputs": [
        {
          "output_type": "stream",
          "name": "stdout",
          "text": [
            "Escribe la primera calificación: 85\n",
            "Escribe la segunda calificación: 96\n",
            "Escribe la tercera calificación: 77\n",
            "Tu promedio es: 86.0\n",
            "Bien\n"
          ]
        }
      ]
    },
    {
      "cell_type": "markdown",
      "source": [
        "2.- Algoritmo que sirva para calcular el salario semanal de un trabajador donde se obtiene como dato de entrada las horas semanales trabajadas, el salario por hora. \n",
        "\n",
        "El programa deberá calcular el salario normal, salario extra y salario total, considerando lo siguiente: \n",
        "\n",
        "Jornada Normal de 40 horas. \n",
        "El salario normal se considera las horas trabajadas menores o igual a la jornada normal\n",
        "Salario extra se considera las horas trabajadas mayores a la jornada normal y se pagan dobles las primeras 9 y triples a partir de la décima hora extra \n",
        "\n",
        "\n",
        "Nota: Desplegar todos los datos (Salario x hora, Horas Trabajadas, Salario normal, Salario extra y Salario Total)"
      ],
      "metadata": {
        "id": "gjRipk7--avf"
      }
    },
    {
      "cell_type": "code",
      "source": [
        "horas = int(input(\"Ingresa las horas que trabajaste en la semana: \"))\n",
        "salario_hora = float(input(\"Ingresa tu salario por hora: \"))\n",
        "if horas > 40:\n",
        "    if horas > 49:\n",
        "        salario_norm = (salario_hora * 40)\n",
        "        salario_ext = ((salario_hora * 2) * 9) + ((salario_hora * 3) * (horas - 49))\n",
        "    else:\n",
        "        salario_norm = (salario_hora * 40)\n",
        "        salario_ext = ((salario_hora * 2) * (horas - 40))\n",
        "else:\n",
        "    salario_norm = (salario_hora * horas)\n",
        "    salario_ext = 0\n",
        "salario_tot = salario_norm + salario_ext\n",
        "print(f\"Salario x hora: {salario_hora} $\")\n",
        "print(f\"Horas Trabajadas: {horas} $\")\n",
        "print(f\"Salario normal: {salario_norm} $\")\n",
        "print(f\"Salario extra: {salario_ext} $\")\n",
        "print(f\"Salario total: {salario_tot} $\")\n"
      ],
      "metadata": {
        "id": "X1pjjiED-e3f",
        "colab": {
          "base_uri": "https://localhost:8080/"
        },
        "outputId": "9e279185-aa37-41bf-b74d-676c01d05c90"
      },
      "execution_count": 3,
      "outputs": [
        {
          "output_type": "stream",
          "name": "stdout",
          "text": [
            "Ingresa las horas que trabajaste en la semana: 51\n",
            "Ingresa tu salario por hora: 40\n",
            "Salario x hora: 40.0 $\n",
            "Horas Trabajadas: 51 $\n",
            "Salario normal: 1600.0 $\n",
            "Salario extra: 960.0 $\n",
            "Salario total: 2560.0 $\n"
          ]
        }
      ]
    },
    {
      "cell_type": "markdown",
      "source": [
        "3.- Algoritmo que sirva para desplegar el Total de una llamada telefónica donde se pide como datos de entrada los minutos y el tipo de llamada, se cobra de la siguiente manera:\n",
        "\n",
        "1.- Llamada Local $3.00 sin límite de tiempo \n",
        "\n",
        "2.- Llamada Nacional $7.00 por los 3 primeros minutos y 2.00 minuto adicional \n",
        "\n",
        "3.- Llamada Internacional $9.00 por los 2 primeros minutos y 4.00 minuto adicional\n",
        "\n",
        " Desplegar, Subtotal,Iva (16%) y Total.\n"
      ],
      "metadata": {
        "id": "XrBJ4WfI-fCv"
      }
    },
    {
      "cell_type": "code",
      "source": [
        "minutos = int(input(\"Ingresa los minutos de la llamada:\"))\n",
        "tipo_llamada = int(input(\" 1.-Llamada Local \\n 2.-Llamada Nacional \\n 3.-Llamada Internacional \\n Ingresa el tipo de llamada: \"))\n",
        "if tipo_llamada == 1:\n",
        "    subtotal = minutos * 3\n",
        "else:\n",
        "    if tipo_llamada == 2:\n",
        "        if minutos > 3:\n",
        "            subtotal = (3 * 7)+((minutos-3)*2)\n",
        "        else:\n",
        "            subtotal = (minutos * 7)\n",
        "    else:\n",
        "        if tipo_llamada == 3:\n",
        "            if minutos > 2:\n",
        "                subtotal = (2 * 9)+((minutos-2)*4)\n",
        "            else:\n",
        "                subtotal = (minutos * 9)\n",
        "        else:\n",
        "            print(\"Tipo de llamada no valida\")\n",
        "iva = subtotal * 0.16\n",
        "total = subtotal + iva\n",
        "print(f\"Subtotal: {subtotal}\")\n",
        "print(f\"Iva(16%): {iva}\")\n",
        "print(f\"Total: {total}\")"
      ],
      "metadata": {
        "id": "H1QZaz5N-g1v",
        "colab": {
          "base_uri": "https://localhost:8080/"
        },
        "outputId": "6f4c234c-ad52-49ac-dd02-e325da433084"
      },
      "execution_count": 4,
      "outputs": [
        {
          "output_type": "stream",
          "name": "stdout",
          "text": [
            "Ingresa los minutos de la llamada:60\n",
            " 1.-Llamada Local \n",
            " 2.-Llamada Nacional \n",
            " 3.-Llamada Internacional \n",
            " Ingresa el tipo de llamada: 2\n",
            "Subtotal: 135\n",
            "Iva(16%): 21.6\n",
            "Total: 156.6\n"
          ]
        }
      ]
    },
    {
      "cell_type": "markdown",
      "source": [
        "4.- Algoritmo que sirva para calcular el Total a pagar por consumo de agua, donde el dato de entrada son los M3 de agua consumidos, Tomar en cuenta que se cobra escalonada de la Siguiente manera: \n",
        "\n",
        "Rango1: 0 al 4 M3 $50 x facturación sin importar cuánto consumió en este rango \n",
        "\n",
        "Rango2: 5 a 15 M3 $8.00 x M3 \n",
        "\n",
        "Rango3: 16 a 50 M3 $10.00 x M3 \n",
        "\n",
        "Rango4: 51 M3 en adelante $11.00 x M3 \n",
        "\n",
        "Nota: Desplegar SubTotal, Iva(16%), y Total a pagar."
      ],
      "metadata": {
        "id": "PpwHkfWZ-hIP"
      }
    },
    {
      "cell_type": "code",
      "source": [
        "consumo = int(input(\"Ingresa cuantros metros cubicos consumiste de agua: \"))\n",
        "if consumo > 4:\n",
        "    if consumo > 15:\n",
        "        if consumo > 50:\n",
        "            metrosextra = consumo - 50\n",
        "            subtotal = 50 +(11*8)+(35*10)+(metrosextra*11)\n",
        "        else:\n",
        "            metrosextra = consumo - 15\n",
        "            subtotal = 50 +(11*8)+(metrosextra*10)\n",
        "    else:\n",
        "        metrosextra = consumo - 4\n",
        "        subtotal = 50 + (metrosextra*8)\n",
        "else:\n",
        "    subtotal = 50\n",
        "iva = subtotal * 0.16\n",
        "total = subtotal + iva\n",
        "print(f\"Subtotal: {subtotal} $\")\n",
        "print(f\"IVA(16%): {iva} $\")\n",
        "print(f\"Total a pagar: {total} $\")\n",
        "            "
      ],
      "metadata": {
        "id": "dxMF9fO3-jAn",
        "colab": {
          "base_uri": "https://localhost:8080/"
        },
        "outputId": "c08f1ee9-8701-43a3-a7eb-db08671632c0"
      },
      "execution_count": 5,
      "outputs": [
        {
          "output_type": "stream",
          "name": "stdout",
          "text": [
            "Ingresa cuantros metros cubicos consumiste de agua: 44\n",
            "Subtotal: 428 $\n",
            "IVA(16%): 68.48 $\n",
            "Total a pagar: 496.48 $\n"
          ]
        }
      ]
    },
    {
      "cell_type": "markdown",
      "source": [
        "5- En la materia de Metodología de la programación se aplican 5 exámenes, calcular el promedio final de la materia donde la calificación menor de los exámenes se anula y el promedio se calcula en base a 4 exámenes.\n",
        "\n",
        "Desplegar el promedio final. "
      ],
      "metadata": {
        "id": "MhSTgGVc-jMH"
      }
    },
    {
      "cell_type": "code",
      "source": [
        "examen1 = int(input(\"Ingresa la calificación del primer examen: \"))\n",
        "examen2 = int(input(\"Ingresa la calificación del segundo examen: \"))\n",
        "examen3 = int(input(\"Ingresa la calificación del tercer examen: \"))\n",
        "examen4 = int(input(\"Ingresa la calificación del cuarto examen: \"))\n",
        "examen5 = int(input(\"Ingresa la calificación del quinto examen: \"))\n",
        "calmenor = examen1\n",
        "if examen2 < calmenor:\n",
        "    calmenor = examen2\n",
        "if examen3 < calmenor:\n",
        "    calmenor = examen3\n",
        "if examen4 < calmenor:\n",
        "    calmenor = examen4\n",
        "if examen5 < calmenor:\n",
        "    calmenor = examen5\n",
        "prom = (examen1 + examen2 + examen3 + examen4 + examen5 - calmenor) /4\n",
        "print (f\"El promedio final es: {prom}\")"
      ],
      "metadata": {
        "id": "FJTFhIlo-keg",
        "colab": {
          "base_uri": "https://localhost:8080/"
        },
        "outputId": "57e8e2ff-0e69-4837-9747-30341b3f37c8"
      },
      "execution_count": 7,
      "outputs": [
        {
          "output_type": "stream",
          "name": "stdout",
          "text": [
            "Ingresa la calificación del primer examen: 90\n",
            "Ingresa la calificación del segundo examen: 89\n",
            "Ingresa la calificación del tercer examen: 89\n",
            "Ingresa la calificación del cuarto examen: 89\n",
            "Ingresa la calificación del quinto examen: 45\n",
            "El promedio final es: 89.25\n"
          ]
        }
      ]
    },
    {
      "cell_type": "markdown",
      "source": [
        "6.- Algoritmo que sirva para el juego del CHINCHAMPU (Piedra, Papel, Tijera) para 1 jugador y la computadora, (usar condición anidada) "
      ],
      "metadata": {
        "id": "SRCcfh_o-m4I"
      }
    },
    {
      "cell_type": "code",
      "source": [
        "import random\n",
        "print(\"JUEGO DEL CHINCHAMPU\")\n",
        "print(\" 1.-Piedra \\n 2.-Papel \\n 3.-Tijeras\")\n",
        "jugadajg = int(input(\"Ingresa que opcion quieres: \"))\n",
        "jugadapc = random.randint(1,3)\n",
        "if jugadapc == 1:\n",
        "    print(\"La computadora eligio piedra\")\n",
        "else:\n",
        "    if jugadapc == 2:\n",
        "        print(\"La computadora eligio papel\")\n",
        "    else:\n",
        "        print(\"La computadora eligio tijeras\")\n",
        "\n",
        "if jugadajg == 1:\n",
        "    if jugadapc == 3:\n",
        "        print(\"¡Ganaste!\")\n",
        "    else:\n",
        "        if jugadapc == 2:\n",
        "            print(\"Gana la computadora\")\n",
        "        else:\n",
        "            print(\"Empate\")\n",
        "else:\n",
        "    if jugadajg == 2:\n",
        "        if jugadapc == 1:\n",
        "            print(\"¡Ganaste!\")\n",
        "        else:\n",
        "            if jugadapc == 3:\n",
        "                print(\"Gana la computadora\")\n",
        "            else:\n",
        "                print(\" Empate\")\n",
        "    else:\n",
        "        if jugadajg == 3:\n",
        "            if jugadapc == 2:\n",
        "                print(\"¡Ganaste!\")\n",
        "            else:\n",
        "                if jugadapc == 1:\n",
        "                    print(\"Gana la computadora\")\n",
        "                else:\n",
        "                    print(\"Empate\")\n",
        "        else:\n",
        "            print(\"Jugada no valida\")\n",
        "    "
      ],
      "metadata": {
        "id": "dGDX3Llw-pIH",
        "colab": {
          "base_uri": "https://localhost:8080/"
        },
        "outputId": "69a12084-04b6-461b-fa75-9ef23356e2af"
      },
      "execution_count": 8,
      "outputs": [
        {
          "output_type": "stream",
          "name": "stdout",
          "text": [
            "JUEGO DEL CHINCHAMPU\n",
            " 1.-Piedra \n",
            " 2.-Papel \n",
            " 3.-Tijeras\n",
            "Ingresa que opcion quieres: 2\n",
            "La computadora eligio tijeras\n",
            "Gana la computadora\n"
          ]
        }
      ]
    },
    {
      "cell_type": "markdown",
      "source": [
        "7.- Algoritmo que sirva para el juego del CHINCHAMPU (Piedra, Papel, Tijera) para 1 jugador y la computadora, (usar selección múltiple) "
      ],
      "metadata": {
        "id": "E-c0XGkc-pTn"
      }
    },
    {
      "cell_type": "code",
      "source": [
        "import random\n",
        "print(\"JUEGO DEL CHINCHAMPU\")\n",
        "print(\" 1.-Piedra \\n 2.-Papel \\n 3.-Tijeras\")\n",
        "jugadajg = int(input(\"Ingresa que opcion quieres: \"))\n",
        "jugadapc = random.randint(1,3)\n",
        "if jugadapc == 1:\n",
        "    print(\"La computadora eligio piedra\")\n",
        "    if jugadajg == 1:\n",
        "        print(\"Empate\")\n",
        "    elif jugadajg == 2:\n",
        "        print(\"¡Ganaste!\")\n",
        "    elif jugadajg == 3:\n",
        "        print(\"Gana la computadora\")\n",
        "    else:\n",
        "        print(\"Jugada no valida\")\n",
        "elif jugadapc == 2:\n",
        "    print(\"La computadora eligio papel\")\n",
        "    if jugadajg == 1:\n",
        "        print(\"Gana la computadora\")\n",
        "    elif jugadajg == 2:\n",
        "        print(\"Empate\")\n",
        "    elif jugadajg == 3:\n",
        "        print(\"¡Ganaste!\")\n",
        "    else:\n",
        "        print(\"Jugada no valida\")\n",
        "elif jugadapc == 3:\n",
        "    print(\"La computadora eligio tijeras\")\n",
        "    if jugadajg == 1:\n",
        "        print(\"¡Ganaste!\")\n",
        "    elif jugadajg == 2:\n",
        "        print(\"Gana la computadora\")\n",
        "    elif jugadajg == 3:\n",
        "        print(\"Empate\")\n",
        "    else:\n",
        "        print(\"Jugada no valida\")"
      ],
      "metadata": {
        "id": "HdRFNXWz-rG4",
        "colab": {
          "base_uri": "https://localhost:8080/"
        },
        "outputId": "cda515e6-3cf7-44fa-d5f5-1ae9e88a38d1"
      },
      "execution_count": 9,
      "outputs": [
        {
          "output_type": "stream",
          "name": "stdout",
          "text": [
            "JUEGO DEL CHINCHAMPU\n",
            " 1.-Piedra \n",
            " 2.-Papel \n",
            " 3.-Tijeras\n",
            "Ingresa que opcion quieres: 3\n",
            "La computadora eligio piedra\n",
            "Gana la computadora\n"
          ]
        }
      ]
    },
    {
      "cell_type": "markdown",
      "source": [
        "8.- Una tienda de electrónica ofrece descuentos a sus clientes, dependiendo del tipo de producto que compren. Si el cliente compra una computadora, tiene un descuento del 5% en el precio de la computadora y un 10% de descuento en una impresora si la compra junto con la computadora. Si el cliente compra una televisión, tiene un descuento del 7% en el precio de la televisión y un 15% de descuento en una barra de sonido si la compra junto con la televisión. Si el cliente compra una consola de videojuegos, tiene un descuento del 10% en el precio de la consola y un 20% de descuento en un juego si lo compra junto con la consola. Escribe un programa que calcule el precio a pagar por un cliente, tomando en cuenta los descuentos correspondientes."
      ],
      "metadata": {
        "id": "oEIMrOff-rQY"
      }
    },
    {
      "cell_type": "code",
      "source": [
        "print(\"PRODUCTOS: \\n 1.-Computadora(3000$) \\n 2.-Impresora(1500$) \\n 3.-Television(1700$) \\n 4.-Barra de sonido(900$)\")\n",
        "print(\" 5.-Consola de videojuegos(2700$) \\n 6.-Juego(200$)\")\n",
        "computadora = 3000\n",
        "impresora = 1500\n",
        "television = 1700\n",
        "barra_son = 900\n",
        "consola = 2700\n",
        "juego = 200\n",
        "producto1 = int(input(\"Ingresa que articulo deseas adquirir: \"))\n",
        "producto2 = int(input(\"Ingresa el numero de otro articulo que deseas adquirir(si no ingresa 0): \"))\n",
        "if producto1 == 1:\n",
        "    precio1 = computadora\n",
        "elif producto1 == 2:\n",
        "    precio1 = impresora\n",
        "elif producto1 == 3:\n",
        "    precio1 = television\n",
        "elif producto1 == 4:\n",
        "    precio1 = barra_son\n",
        "elif producto1 == 5:\n",
        "    precio1 = consola\n",
        "elif producto1 == 6:\n",
        "    precio1 = juego\n",
        "\n",
        "if producto2 == 1:\n",
        "    precio2 = computadora\n",
        "elif producto2 == 2:\n",
        "    precio2 = impresora\n",
        "elif producto2 == 3:\n",
        "    precio2 = television\n",
        "elif producto2 == 4:\n",
        "    precio2 = barra_son\n",
        "elif producto2 == 5:\n",
        "    precio2 = consola\n",
        "elif producto2 == 6:\n",
        "    precio2 = juego\n",
        "elif producto2 == 0:\n",
        "    precio2 = 0\n",
        "print(\"---------------------------------------------------------------------\")\n",
        "if producto1 == 1 and producto2 == 2:\n",
        "    print(\"Tienes 5% de descuento en la computadora y 10% de descuento en la impresora\")\n",
        "    precio1 *= 0.95\n",
        "    precio2 *= 0.90\n",
        "elif producto1 == 3 and producto2 == 4:\n",
        "    print(\"Tienes 7% de descuento en la television y 15% en la barra de sonido\")\n",
        "    precio1 *= 0.93\n",
        "    precio2 *= 0.85\n",
        "elif producto1 == 5 and producto2 == 6:\n",
        "    print(\"Tienes 10% de descuento en la consola y 20% en el videojuego\")\n",
        "    precio1 *= 0.90\n",
        "    precio2 *= 0.80\n",
        "\n",
        "if producto1 == 2 and producto2 == 1:\n",
        "    print(\"Tienes 10% de descuento en la impresora y 5% en la computadora\")\n",
        "    precio2 *= 0.95\n",
        "    precio1 *= 0.90\n",
        "elif producto1 == 4 and producto2 == 3:\n",
        "    print(\"Tienes 15% de descuento en la barra de sonido y 7% en la television\")\n",
        "    precio2 *= 0.93\n",
        "    precio1 *= 0.85\n",
        "elif producto1 == 6 and producto2 == 5:\n",
        "    print(\"Tienes 20% de descuento en el videojuego y 10% en la consola\")\n",
        "    precio2 *= 0.90\n",
        "    precio1 *= 0.80\n",
        "total = precio1 + precio2\n",
        "print(f\"Total = {precio1} $ + {precio2} $\")\n",
        "print(f\"Total: {total} $\")"
      ],
      "metadata": {
        "id": "rCllMs6s-sjP",
        "colab": {
          "base_uri": "https://localhost:8080/"
        },
        "outputId": "074a6e1a-21d8-4634-8a16-3c796bc68e38"
      },
      "execution_count": 10,
      "outputs": [
        {
          "output_type": "stream",
          "name": "stdout",
          "text": [
            "PRODUCTOS: \n",
            " 1.-Computadora(3000$) \n",
            " 2.-Impresora(1500$) \n",
            " 3.-Television(1700$) \n",
            " 4.-Barra de sonido(900$)\n",
            " 5.-Consola de videojuegos(2700$) \n",
            " 6.-Juego(200$)\n",
            "Ingresa que articulo deseas adquirir: 4\n",
            "Ingresa el numero de otro articulo que deseas adquirir(si no ingresa 0): 3\n",
            "---------------------------------------------------------------------\n",
            "Tienes 15% de descuento en la barra de sonido y 7% en la television\n",
            "Total = 765.0 $ + 1581.0 $\n",
            "Total: 2346.0 $\n"
          ]
        }
      ]
    },
    {
      "cell_type": "markdown",
      "source": [
        "9.- En una tienda de ropa, los precios de los productos cambian dependiendo de la temporada. Durante la temporada de verano, todos los productos tienen un descuento del 20%. Durante la temporada de invierno, los productos con etiqueta roja tienen un descuento del 30% y los productos con etiqueta verde tienen un descuento del 15%. Durante la temporada de primavera y otoño, los productos con etiqueta amarilla tienen un descuento del 10%. Escribe un programa que calcule el precio a pagar por un cliente, tomando en cuenta los descuentos correspondientes."
      ],
      "metadata": {
        "id": "Icv5_-rX-svX"
      }
    },
    {
      "cell_type": "code",
      "source": [
        "print (\"Temporada: \\n 1.-Primavera \\n 2.- Verano \\n 3.-Otoño \\n 4.-Invierno\")\n",
        "temporada = int(input(\"Ingresa que temporada es: \"))\n",
        "print(\"PRODUCTOS: \\n 1.-Etiqueta roja(200$) \\n 2.-Etiqueta verde(310$) \\n 3.-Etiqueta amarilla(250$)\")\n",
        "tipo_etiqueta = int(input(\"Ingresa que etiqueta tiene el producto: \"))\n",
        "etiqueta_roja = 200\n",
        "etiqueta_verde = 310\n",
        "etiqueta_amarilla = 250\n",
        "if tipo_etiqueta == 1:\n",
        "    precioapagar = etiqueta_roja\n",
        "elif tipo_etiqueta == 2:\n",
        "    precioapagar = etiqueta_verde\n",
        "elif tipo_etiqueta == 3:\n",
        "    precioapagar = etiqueta_amarilla\n",
        "\n",
        "if temporada == 1:\n",
        "    if tipo_etiqueta == 3:\n",
        "        print(\"En primavera los productos de etiqueta amarilla tienen un 10% de descuento\")\n",
        "        precioapagar *= 0.90\n",
        "elif temporada == 2:\n",
        "    print(\"Todos nuestros productos tienen un descuento del 20% en verano\")\n",
        "    precioapagar *= 0.80\n",
        "elif temporada == 3:\n",
        "    if tipo_etiqueta == 3:\n",
        "        print(\"En otoño los productos de etiqueta amarilla tienen 10% de descuento\")\n",
        "        precioapagar *= 0.90\n",
        "elif temporada == 4:\n",
        "    if tipo_etiqueta == 1:\n",
        "        print(\"En invierno los productos de etiqueta roja tienen un 30% de descuento\")\n",
        "        precioapagar *= 0.70\n",
        "    if tipo_etiqueta == 2:\n",
        "        print(\"En invierno los productos de etiqueta verde tienen un 15% de descuento\")\n",
        "        precioapagar *= 0.85\n",
        "\n",
        "print(f\"El precio a pagar es: {precioapagar} $\")"
      ],
      "metadata": {
        "id": "yFVxGFyl-t5Y",
        "colab": {
          "base_uri": "https://localhost:8080/"
        },
        "outputId": "9acbd6fc-8384-46af-fcbe-11b9fb56cdaf"
      },
      "execution_count": 11,
      "outputs": [
        {
          "output_type": "stream",
          "name": "stdout",
          "text": [
            "Temporada: \n",
            " 1.-Primavera \n",
            " 2.- Verano \n",
            " 3.-Otoño \n",
            " 4.-Invierno\n",
            "Ingresa que temporada es: 3\n",
            "PRODUCTOS: \n",
            " 1.-Etiqueta roja(200$) \n",
            " 2.-Etiqueta verde(310$) \n",
            " 3.-Etiqueta amarilla(250$)\n",
            "Ingresa que etiqueta tiene el producto: 3\n",
            "En otoño los productos de etiqueta amarilla tienen 10% de descuento\n",
            "El precio a pagar es: 225.0 $\n"
          ]
        }
      ]
    },
    {
      "cell_type": "markdown",
      "source": [
        "10.- Un restaurante ofrece descuentos a sus clientes, dependiendo del día de la semana y del tipo de menú que pidan. Los lunes, los clientes que pidan el menú del día tienen un descuento del 10%. Los martes, los clientes que pidan el menú infantil tienen un descuento del 20%. Los miércoles, los clientes que pidan el menú vegetariano tienen un descuento del 15%. Los jueves, los clientes que pidan el menú del chef tienen un descuento del 5%. Los viernes, los clientes que pidan el menú del día tienen un descuento del 5%. Los sábados y domingos no hay descuentos. Escribe un programa que calcule el precio a pagar por un cliente, tomando en cuenta los descuentos correspondientes."
      ],
      "metadata": {
        "id": "RekU08m8-uAf"
      }
    },
    {
      "cell_type": "code",
      "source": [
        "print(\"DIAS: \\n 1.-Lunes \\n 2.-Martes \\n 3.-Miercoles \\n 4.-Jueves \\n 5.-Viernes \\n 6.-Domingo\")\n",
        "dia = int(input(\"Ingresa que dia es: \"))\n",
        "print(\"MENUS: \\n 1.-Del dia(100$) \\n 2.-Infantil(80$) \\n 3.-Vegetariano($120) \\n 4.- Del Chef(140$) \")\n",
        "menu = int(input(\"Ingresa que menu deseas pedir: \"))\n",
        "menu_dia = 100\n",
        "menu_inf = 80\n",
        "menu_veg = 120\n",
        "menu_chef = 140\n",
        "if menu == 1:\n",
        "    precioapagar = menu_dia\n",
        "elif menu == 2:\n",
        "    precioapagar = menu_inf\n",
        "elif menu == 3:\n",
        "    precioapagar = menu_veg\n",
        "elif menu == 4:\n",
        "    precioapagar = menu_chef\n",
        "print(\"---------------------------------------\")\n",
        "if dia == 1:\n",
        "    if menu == 1:\n",
        "        print(\"Tienes un descuento del 10%\")\n",
        "        precioapagar *= 0.90\n",
        "\n",
        "elif dia == 2:\n",
        "    if menu == 2:\n",
        "        print(\"Tienes un descuento del 20%\")\n",
        "        precioapagar *= 0.80\n",
        "elif dia == 3:\n",
        "    if menu == 3:\n",
        "        print(\"Tienes un descuento del 15%\")\n",
        "        precioapagar *= 0.85\n",
        "elif dia == 4:\n",
        "    if menu == 4:\n",
        "        print(\"Tienes un descuento del 5%\")\n",
        "        precioapagar *= 0.95\n",
        "elif dia == 5:\n",
        "    if menu == 1:\n",
        "        print(\"Tienes un descuento del 5%\")\n",
        "        precioapagar *= 0.95\n",
        "elif dia == 6:\n",
        "    print(\"Sabado y Domingos no hay descuentos en ninguno de nuestros menus\")\n",
        "\n",
        "print(f\"El precio a pagar es: {precioapagar} $\")"
      ],
      "metadata": {
        "id": "DsQvehMm-vb3",
        "colab": {
          "base_uri": "https://localhost:8080/"
        },
        "outputId": "dc0b8010-e7f8-4f8c-f39c-a2bb9b80cfec"
      },
      "execution_count": 12,
      "outputs": [
        {
          "output_type": "stream",
          "name": "stdout",
          "text": [
            "DIAS: \n",
            " 1.-Lunes \n",
            " 2.-Martes \n",
            " 3.-Miercoles \n",
            " 4.-Jueves \n",
            " 5.-Viernes \n",
            " 6.-Domingo\n",
            "Ingresa que dia es: 4\n",
            "MENUS: \n",
            " 1.-Del dia(100$) \n",
            " 2.-Infantil(80$) \n",
            " 3.-Vegetariano($120) \n",
            " 4.- Del Chef(140$) \n",
            "Ingresa que menu deseas pedir: 4\n",
            "---------------------------------------\n",
            "Tienes un descuento del 5%\n",
            "El precio a pagar es: 133.0 $\n"
          ]
        }
      ]
    }
  ]
}