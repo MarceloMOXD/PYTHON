{
  "nbformat": 4,
  "nbformat_minor": 0,
  "metadata": {
    "colab": {
      "provenance": [],
      "authorship_tag": "ABX9TyPxuGRUdlyOzBvZ04OSAyzb",
      "include_colab_link": true
    },
    "kernelspec": {
      "name": "python3",
      "display_name": "Python 3"
    },
    "language_info": {
      "name": "python"
    }
  },
  "cells": [
    {
      "cell_type": "markdown",
      "metadata": {
        "id": "view-in-github",
        "colab_type": "text"
      },
      "source": [
        "<a href=\"https://colab.research.google.com/github/MarceloMOXD/PYTHON/blob/main/ACTIVIDAD_5.ipynb\" target=\"_parent\"><img src=\"https://colab.research.google.com/assets/colab-badge.svg\" alt=\"Open In Colab\"/></a>"
      ]
    },
    {
      "cell_type": "markdown",
      "source": [
        "# **ACTIVIDAD 5**"
      ],
      "metadata": {
        "id": "Ch218Nqo8jTz"
      }
    },
    {
      "cell_type": "markdown",
      "source": [
        "## **PARTE 1**"
      ],
      "metadata": {
        "id": "2kia-3b0_eQ1"
      }
    },
    {
      "cell_type": "markdown",
      "source": [
        "\n",
        "**1.-** Programa en Python que genere 40 números aleatorios entre el 0 y 200, desplegar los números y la leyenda de cada número si es par o impar , la cantidad de los números pares e impares así como la suma de los números pares o impares."
      ],
      "metadata": {
        "id": "pwOz9q5Q8n_T"
      }
    },
    {
      "cell_type": "code",
      "source": [
        "import random\n",
        "par = 0\n",
        "impar = 0\n",
        "sumapar = 0\n",
        "sumaimpar = 0\n",
        "for i in range(40):\n",
        "    num = random.randint(0,200)\n",
        "    print(f\"Numero {i+1} = {num}\",end=\" \")\n",
        "    if num%2 == 0:\n",
        "        print(\"PAR\")\n",
        "        par+=1\n",
        "        sumapar+= num\n",
        "    else:\n",
        "        print(\"IMPAR\")\n",
        "        impar+=1\n",
        "        sumaimpar+= num\n",
        "print(\"----------------------------------------\")\n",
        "print(f\"La cantidad de numeros pares es: {par}\")\n",
        "print(f\"La cantidad de numeros impares es: {impar}\")\n",
        "print(f\"La suma de los numeros pares es: {sumapar}\")\n",
        "print(f\"La suma de los numeros impares es: {sumaimpar}\")"
      ],
      "metadata": {
        "colab": {
          "base_uri": "https://localhost:8080/"
        },
        "id": "LJ98zHmT_GrH",
        "outputId": "bbfeb690-fb85-4a09-8095-aa79747146b0"
      },
      "execution_count": null,
      "outputs": [
        {
          "output_type": "stream",
          "name": "stdout",
          "text": [
            "Numero 1 = 33 IMPAR\n",
            "Numero 2 = 82 PAR\n",
            "Numero 3 = 46 PAR\n",
            "Numero 4 = 91 IMPAR\n",
            "Numero 5 = 113 IMPAR\n",
            "Numero 6 = 68 PAR\n",
            "Numero 7 = 83 IMPAR\n",
            "Numero 8 = 178 PAR\n",
            "Numero 9 = 114 PAR\n",
            "Numero 10 = 61 IMPAR\n",
            "Numero 11 = 187 IMPAR\n",
            "Numero 12 = 117 IMPAR\n",
            "Numero 13 = 32 PAR\n",
            "Numero 14 = 130 PAR\n",
            "Numero 15 = 183 IMPAR\n",
            "Numero 16 = 99 IMPAR\n",
            "Numero 17 = 149 IMPAR\n",
            "Numero 18 = 155 IMPAR\n",
            "Numero 19 = 158 PAR\n",
            "Numero 20 = 51 IMPAR\n",
            "Numero 21 = 85 IMPAR\n",
            "Numero 22 = 104 PAR\n",
            "Numero 23 = 24 PAR\n",
            "Numero 24 = 5 IMPAR\n",
            "Numero 25 = 32 PAR\n",
            "Numero 26 = 124 PAR\n",
            "Numero 27 = 194 PAR\n",
            "Numero 28 = 121 IMPAR\n",
            "Numero 29 = 179 IMPAR\n",
            "Numero 30 = 18 PAR\n",
            "Numero 31 = 200 PAR\n",
            "Numero 32 = 87 IMPAR\n",
            "Numero 33 = 37 IMPAR\n",
            "Numero 34 = 73 IMPAR\n",
            "Numero 35 = 74 PAR\n",
            "Numero 36 = 48 PAR\n",
            "Numero 37 = 32 PAR\n",
            "Numero 38 = 192 PAR\n",
            "Numero 39 = 23 IMPAR\n",
            "Numero 40 = 194 PAR\n",
            "----------------------------------------\n",
            "La cantidad de numeros pares es: 20\n",
            "La cantidad de numeros impares es: 20\n",
            "La suma de los numeros pares es: 2044\n",
            "La suma de los numeros impares es: 1932\n"
          ]
        }
      ]
    },
    {
      "cell_type": "markdown",
      "source": [
        "**2.-** Programa en Python que despliegue la tabla de multiplicar de un número dado (número entre el 1 y 20).\n",
        "\n",
        "\n",
        "\n",
        "Tabla del 5\n",
        "\n",
        "5 * 1 = 5\n",
        "\n",
        "5* 2 = 10\n",
        "\n",
        ".\n",
        "\n",
        ".\n",
        "\n",
        ".\n",
        "\n",
        "5*10=50"
      ],
      "metadata": {
        "id": "sflbnlWF_HRX"
      }
    },
    {
      "cell_type": "code",
      "source": [
        "try:\n",
        "    num = int(input(\"Ingresa un numero entre el 1 y el 20: \"))\n",
        "    if num < 1 or num > 20:\n",
        "        raise ValueError(\"El número debe estar entre 1 y 20.\")\n",
        "except ValueError as e:\n",
        "    print(\"Error:\", e)\n",
        "else:\n",
        "    print(f\"TABLA DEL {num}: \")\n",
        "    for i in range(10):\n",
        "        print(f\"{num} x {i+1} = {num*(i+1)}\")"
      ],
      "metadata": {
        "colab": {
          "base_uri": "https://localhost:8080/"
        },
        "id": "a65e-k6g_Npe",
        "outputId": "af16e888-d32e-4b83-bb5c-8db2cbc4fc45"
      },
      "execution_count": null,
      "outputs": [
        {
          "output_type": "stream",
          "name": "stdout",
          "text": [
            "Ingresa un numero entre el 1 y el 20: 5\n",
            "TABLA DEL 5: \n",
            "5 x 1 = 5\n",
            "5 x 2 = 10\n",
            "5 x 3 = 15\n",
            "5 x 4 = 20\n",
            "5 x 5 = 25\n",
            "5 x 6 = 30\n",
            "5 x 7 = 35\n",
            "5 x 8 = 40\n",
            "5 x 9 = 45\n",
            "5 x 10 = 50\n"
          ]
        }
      ]
    },
    {
      "cell_type": "markdown",
      "source": [
        "3.- Programa en Python que lea una calificación, las calificación deberá estar en el rango de 0 a 100, si hay un error de captura, mostrar mensaje de error. con la calificación correcta mostrar msg de aprobado reprobado. "
      ],
      "metadata": {
        "id": "gxWKTAIw_Nxe"
      }
    },
    {
      "cell_type": "code",
      "source": [
        "try:\n",
        "    cal1 = float(input(\"Ingresa la primera calificacion: \"))\n",
        "    if cal1 < 0 or cal1 > 100:\n",
        "        raise ValueError(\"El número debe estar entre 0 y 100.\")\n",
        "except ValueError as e:\n",
        "    print(\"Error:\", e)\n",
        "else:\n",
        "    if cal1 < 60:\n",
        "        print(\"REPROBADO\")\n",
        "    else:\n",
        "        print(\"APROBADO\")"
      ],
      "metadata": {
        "colab": {
          "base_uri": "https://localhost:8080/"
        },
        "id": "Xa1Yau4V_Ryu",
        "outputId": "257ec578-0a8d-4cad-ae1e-529da9f70418"
      },
      "execution_count": null,
      "outputs": [
        {
          "output_type": "stream",
          "name": "stdout",
          "text": [
            "Ingresa la primera calificacion: 60\n",
            "APROBADO\n"
          ]
        }
      ]
    },
    {
      "cell_type": "markdown",
      "source": [
        "4.- Programa en Python que lea n cantidad de números enteros dentro de un rango dado (> 0 ) , el programa deberá terminar cuando el usuario introduzca el número cero.\n",
        "\n",
        "desplegar la suma de números y la media."
      ],
      "metadata": {
        "id": "j3zbv4qA_R9W"
      }
    },
    {
      "cell_type": "code",
      "source": [
        "sumanum = 0\n",
        "i = 0\n",
        "num = 1\n",
        "while num != 0:\n",
        "    num = int(input(f\"Ingresa el numero {i+1}: \"))\n",
        "    sumanum += num\n",
        "    i+=1\n",
        "media = sumanum / (i-1)\n",
        "print(f\"La suma de los numeros es: {sumanum}\")\n",
        "print(f\"La media de los numeros es: {media}\")"
      ],
      "metadata": {
        "id": "swh0Jeef_YfO",
        "colab": {
          "base_uri": "https://localhost:8080/"
        },
        "outputId": "98d845e2-a3bc-445b-b064-9b741857274a"
      },
      "execution_count": null,
      "outputs": [
        {
          "output_type": "stream",
          "name": "stdout",
          "text": [
            "Ingresa el numero 1: 5\n",
            "Ingresa el numero 2: 5\n",
            "Ingresa el numero 3: 5\n",
            "Ingresa el numero 4: 5\n",
            "Ingresa el numero 5: 0\n",
            "La suma de los numeros es: 20\n",
            "La media de los numeros es: 5.0\n"
          ]
        }
      ]
    },
    {
      "cell_type": "markdown",
      "source": [
        "\n",
        "5.- Programa en Python que sirva para leer el promedio de una materia. donde el usuario tendrá un máximo de 3 oportunidades de cursar la materia, si el promedio es aprobado, felicitarlo y continuar el siguiente semestre, si promedio es reprobado deberá salir mensaje de repetir materia o es baja académica si ha reprobado 3 veces. "
      ],
      "metadata": {
        "id": "JmqD7e6Y_YoO"
      }
    },
    {
      "cell_type": "code",
      "source": [
        "i = 0\n",
        "while i < 3:\n",
        "    prom = int(input(f\"Ingresa el promedio del intento {i+1}: \"))\n",
        "    if prom >= 60:\n",
        "        print(\"APROBADO, FELICIDADES\")\n",
        "        break\n",
        "    else:\n",
        "        print(\"REPROBADO, REPITE LA MATERIA\")\n",
        "        i += 1\n",
        "if i == 3:\n",
        "    print(\"REPROBASTE 3 VECES, TIENES BAJA ACADEMICA\")"
      ],
      "metadata": {
        "id": "aBh6DWJv_acu",
        "colab": {
          "base_uri": "https://localhost:8080/"
        },
        "outputId": "bd9f870f-cb30-44f8-dbcb-afd405ef9ca8"
      },
      "execution_count": null,
      "outputs": [
        {
          "output_type": "stream",
          "name": "stdout",
          "text": [
            "Ingresa el promedio del intento 1: 60\n",
            "APROBADO, FELICIDADES\n"
          ]
        }
      ]
    },
    {
      "cell_type": "markdown",
      "source": [
        "**PARTE 2**"
      ],
      "metadata": {
        "id": "ISfBqzgnCMgq"
      }
    },
    {
      "cell_type": "markdown",
      "source": [
        "1.-Función que lea n cantidad de números hasta que el usuario lo desee, desplegar la suma de los números, media y valor de los números mayores y menores"
      ],
      "metadata": {
        "id": "ul-Udt9iCSiI"
      }
    },
    {
      "cell_type": "code",
      "source": [
        "\n",
        "def numeros_usuar(n):\n",
        "    sumanum = 0\n",
        "    nummayor = 0\n",
        "    nummenor =99999\n",
        "    for i in range(n):\n",
        "        num = int(input(f\"Ingresa el numero {i+1}: \"))\n",
        "        sumanum += num\n",
        "        if num > nummayor:\n",
        "            nummayor = num\n",
        "        if num < nummenor:\n",
        "            nummenor = num\n",
        "    print(\"------------------------------------\")\n",
        "    print(f\"La suma de los numeros es: {sumanum}\")\n",
        "    print(f\"La media de los numeros es: {sumanum/(i+1)}\")\n",
        "    print(f\"El numero mayor es: {nummayor} \")\n",
        "    print(f\"El numero menor es: {nummenor}\")\n",
        "\n",
        "n = int(input(\"Ingresa la cantidad de numeros que deseas leer: \"))\n",
        "numeros_usuar(n)"
      ],
      "metadata": {
        "id": "BB4vRF2Uobek",
        "colab": {
          "base_uri": "https://localhost:8080/"
        },
        "outputId": "146fcd2f-26fc-4cd7-837c-f1334abb173a"
      },
      "execution_count": null,
      "outputs": [
        {
          "output_type": "stream",
          "name": "stdout",
          "text": [
            "Ingresa la cantidad de numeros que deseas leer: 4\n",
            "Ingresa el numero 1: 6\n",
            "Ingresa el numero 2: 5\n",
            "Ingresa el numero 3: 4\n",
            "Ingresa el numero 4: 15\n",
            "------------------------------------\n",
            "La suma de los numeros es: 30\n",
            "La media de los numeros es: 7.5\n",
            "El numero mayor es: 15 \n",
            "El numero menor es: 4\n"
          ]
        }
      ]
    },
    {
      "cell_type": "markdown",
      "source": [
        "2.-Función que genere 15 números impares entre 10 y 60 o máximo de 25 números. desplegar la media de los pares y la media de impares"
      ],
      "metadata": {
        "id": "8g3LfjiOobmD"
      }
    },
    {
      "cell_type": "code",
      "source": [
        "import random\n",
        "def nums():\n",
        "    impar = 1\n",
        "    par = 1\n",
        "    i = 0\n",
        "    sumapar = 0\n",
        "    sumaimpar = 0\n",
        "    while impar <= 15 and i < 25:\n",
        "        num = random.randint(10,60)\n",
        "        print(f\"Numero {i+1}: {num} \", end = \" \")\n",
        "        if num%2 != 0:\n",
        "            print(\"IMPAR\")\n",
        "            impar += 1\n",
        "            sumaimpar += num\n",
        "        else:\n",
        "            print(\"PAR\")\n",
        "            par += 1\n",
        "            sumapar += num\n",
        "        i +=1\n",
        "    print(\"---------------------------------------\")\n",
        "    print(f\"La media de los pares es: {round(sumapar/par,2)}\")\n",
        "    print(f\"La media de los impares es: {round(sumaimpar/impar,2)}\")\n",
        "\n",
        "nums()"
      ],
      "metadata": {
        "colab": {
          "base_uri": "https://localhost:8080/"
        },
        "id": "-BXoeI-Fokx8",
        "outputId": "707a2258-c8c8-43ee-e24c-79b9321e26d6"
      },
      "execution_count": null,
      "outputs": [
        {
          "output_type": "stream",
          "name": "stdout",
          "text": [
            "Numero 1: 17  IMPAR\n",
            "Numero 2: 48  PAR\n",
            "Numero 3: 23  IMPAR\n",
            "Numero 4: 23  IMPAR\n",
            "Numero 5: 20  PAR\n",
            "Numero 6: 13  IMPAR\n",
            "Numero 7: 59  IMPAR\n",
            "Numero 8: 42  PAR\n",
            "Numero 9: 53  IMPAR\n",
            "Numero 10: 11  IMPAR\n",
            "Numero 11: 38  PAR\n",
            "Numero 12: 37  IMPAR\n",
            "Numero 13: 49  IMPAR\n",
            "Numero 14: 45  IMPAR\n",
            "Numero 15: 52  PAR\n",
            "Numero 16: 37  IMPAR\n",
            "Numero 17: 36  PAR\n",
            "Numero 18: 12  PAR\n",
            "Numero 19: 22  PAR\n",
            "Numero 20: 35  IMPAR\n",
            "Numero 21: 43  IMPAR\n",
            "Numero 22: 51  IMPAR\n",
            "Numero 23: 30  PAR\n",
            "Numero 24: 53  IMPAR\n",
            "---------------------------------------\n",
            "La media de los pares es: 30.0\n",
            "La media de los impares es: 34.31\n"
          ]
        }
      ]
    },
    {
      "cell_type": "markdown",
      "source": [
        "3.-Función que sirva para leer y validar un número dentro de un rango dado por el usuario. repetir esta acción hasta que el usuario lo desee, desplegar cantidad de números y promedio de los números."
      ],
      "metadata": {
        "id": "nero51BEok4s"
      }
    },
    {
      "cell_type": "code",
      "source": [
        "def validar_num(ri,rf,msge =\"DAME UN NUMERO ENTRE \",msgError1=\"NUMERO FUERA DEL RANGO\",msgError2=\"INGRESA UN NUMERO QUE ESTE EN EL RANGO\"):\n",
        "    sumanum = 0\n",
        "    nums = 0\n",
        "    while True:\n",
        "        try:\n",
        "            num = int(input(f\"{msge} {ri} y {rf}: \"))\n",
        "        except:\n",
        "            print (msgError2)\n",
        "            continue\n",
        "        else:\n",
        "            nums +=1\n",
        "            sumanum += num\n",
        "        if num < ri or num > rf:\n",
        "            print(msgError2)\n",
        "            continue\n",
        "        else:\n",
        "            print(\"FELICIDADES, EL NUMERO ESTA DENTRO DEL RANGO\")\n",
        "            break\n",
        "    print(\"---------------------------------------------\")\n",
        "    print(f\"La cantidad de números es: {nums}\")\n",
        "    print(f\"El promedio de los números es:{sumanum/nums}\")\n",
        "        \n",
        "\n",
        "ri = int(input(\"Ingresa el rango inicial: \"))\n",
        "rf = int(input(\"Ingresa el rango final: \"))\n",
        "validar_num(ri,rf)"
      ],
      "metadata": {
        "colab": {
          "base_uri": "https://localhost:8080/"
        },
        "id": "H0qn9kCaoxD8",
        "outputId": "6862f0fb-d619-4eb3-fbce-a8598d43b5be"
      },
      "execution_count": null,
      "outputs": [
        {
          "output_type": "stream",
          "name": "stdout",
          "text": [
            "Ingresa el rango inicial: 2\n",
            "Ingresa el rango final: 14\n",
            "DAME UN NUMERO ENTRE  2 y 14: 1\n",
            "INGRESA UN NUMERO QUE ESTE EN EL RANGO\n",
            "DAME UN NUMERO ENTRE  2 y 14: 17\n",
            "INGRESA UN NUMERO QUE ESTE EN EL RANGO\n",
            "DAME UN NUMERO ENTRE  2 y 14: 21\n",
            "INGRESA UN NUMERO QUE ESTE EN EL RANGO\n",
            "DAME UN NUMERO ENTRE  2 y 14: 44\n",
            "INGRESA UN NUMERO QUE ESTE EN EL RANGO\n",
            "DAME UN NUMERO ENTRE  2 y 14: 4\n",
            "FELICIDADES, EL NUMERO ESTA DENTRO DEL RANGO\n",
            "---------------------------------------------\n",
            "La cantidad de números es: 5\n",
            "El promedio de los números es:17.4\n"
          ]
        }
      ]
    },
    {
      "cell_type": "markdown",
      "source": [
        "4.-Función que reciba como parámetro los valores para el área de un triángulo y retorne su resultado"
      ],
      "metadata": {
        "id": "v5DJKJfooxP8"
      }
    },
    {
      "cell_type": "code",
      "source": [
        "base = int(input(\"Ingresa la base del triangulo: \"))\n",
        "altura = int(input(\"Ingresa la altura del triangulo: \"))\n",
        "def area_triangulo(base,altura):\n",
        "    area = (base * altura) / 2\n",
        "    return area\n",
        "area = area_triangulo(base,altura)\n",
        "print(f\"El area del triangulo es: {area}\")"
      ],
      "metadata": {
        "colab": {
          "base_uri": "https://localhost:8080/"
        },
        "id": "NPTGgGz6o23d",
        "outputId": "b5c6a9ce-4fb2-4168-cc1c-498393a6505f"
      },
      "execution_count": null,
      "outputs": [
        {
          "output_type": "stream",
          "name": "stdout",
          "text": [
            "Ingresa la base del triangulo: 5\n",
            "Ingresa la altura del triangulo: 6\n",
            "El area del triangulo es: 15.0\n"
          ]
        }
      ]
    },
    {
      "cell_type": "markdown",
      "source": [
        "5.-Función que sirva para validar un número dentro de un rango dado"
      ],
      "metadata": {
        "id": "9bNVGm5Lo29l"
      }
    },
    {
      "cell_type": "code",
      "source": [
        "def validar_num(ri=13,rf=25,msge =\"DAME UN NUMERO \",msgError1=\"NUMERO FUERA DEL RANGO\",msgError2=\"EL NUMERO NO SE ENCUENTRA EN EL RANGO\"):\n",
        "    while True:\n",
        "        try:\n",
        "            num = int(input(f\"{msge}: \"))\n",
        "        except:\n",
        "            print (msgError2)\n",
        "            continue\n",
        "        if num < ri or num > rf:\n",
        "            print(msgError2)\n",
        "            continue\n",
        "        else:\n",
        "            print(f\"FELICIDADES, EL NUMERO ESTA DENTRO DEL RANGO({ri} y {rf})\")\n",
        "            break\n",
        "\n",
        "validar_num()"
      ],
      "metadata": {
        "id": "S3LVHrkko88U",
        "colab": {
          "base_uri": "https://localhost:8080/"
        },
        "outputId": "3117471d-34da-4b41-92d2-e824f92faaac"
      },
      "execution_count": null,
      "outputs": [
        {
          "output_type": "stream",
          "name": "stdout",
          "text": [
            "DAME UN NUMERO : 11\n",
            "EL NUMERO NO SE ENCUENTRA EN EL RANGO\n",
            "DAME UN NUMERO : 26\n",
            "EL NUMERO NO SE ENCUENTRA EN EL RANGO\n",
            "DAME UN NUMERO : 13\n",
            "FELICIDADES, EL NUMERO ESTA DENTRO DEL RANGO(13 y 25)\n"
          ]
        }
      ]
    }
  ]
}