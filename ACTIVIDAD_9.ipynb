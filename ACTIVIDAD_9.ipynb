{
  "nbformat": 4,
  "nbformat_minor": 0,
  "metadata": {
    "colab": {
      "provenance": [],
      "authorship_tag": "ABX9TyMWTU4A/0sKFvA6yy03q8yu",
      "include_colab_link": true
    },
    "kernelspec": {
      "name": "python3",
      "display_name": "Python 3"
    },
    "language_info": {
      "name": "python"
    }
  },
  "cells": [
    {
      "cell_type": "markdown",
      "metadata": {
        "id": "view-in-github",
        "colab_type": "text"
      },
      "source": [
        "<a href=\"https://colab.research.google.com/github/MarceloMOXD/PYTHON/blob/main/ACTIVIDAD_9.ipynb\" target=\"_parent\"><img src=\"https://colab.research.google.com/assets/colab-badge.svg\" alt=\"Open In Colab\"/></a>"
      ]
    },
    {
      "cell_type": "code",
      "execution_count": 3,
      "metadata": {
        "id": "f-FPpNQCvXwT"
      },
      "outputs": [],
      "source": [
        "#!pip install kora -q\n",
        "from IPython.display import clear_output\n",
        "from kora import drive\n",
        "drive.link_nbs()\n",
        "from funciones import valinum_int\n",
        "import random "
      ]
    },
    {
      "cell_type": "code",
      "source": [
        "def crear_dic():\n",
        "    registro = [\"Matricula\",\"Nombre\",\"Ap.Paterno\",\"Ap.Materno\",\"Edad\",\"Sexo\"]\n",
        "    matricula=[368911,368747,368933,369754,366239,369226]\n",
        "    nombre=[\"Marcelo\",\"Isai Alexis\",\"Samantha\",\"Roberto\",\"Nancy Maria\",\"Jose Abraham\"]\n",
        "    appaterno=[\"Marquez\",\"Arredondo\",\"Perez\",\"Meraz\",\"Siqueiros\",\"Beristain\"]\n",
        "    apmaterno=[\"Ontiveros\",\"Urbalejo\",\"Peña\",\"Quintero\",\"Chavez\",\"Navarro\"]\n",
        "    edad=[19,21,20,20,20,19]\n",
        "    sexo=[\"H\",\"H\",\"M\",\"H\",\"M\",\"H\"]\n",
        "    nrandom=random.randint(0,5)\n",
        "    dic = dict(zip(registro,[matricula[nrandom],nombre[nrandom],appaterno[nrandom],apmaterno[nrandom],edad[nrandom],sexo[nrandom]]))\n",
        "    print(\"Se creo el diccionario\")\n",
        "    return dic\n",
        " "
      ],
      "metadata": {
        "id": "_Tv8G41Owlvf"
      },
      "execution_count": 76,
      "outputs": []
    },
    {
      "cell_type": "code",
      "source": [
        "def imprimir_dic(dic):\n",
        "    print(\"{:<20}{:<20}{:<20}{:<20}{:<20}{}\".format(\"Matricula\",\"Nombre\",\"Ap.Paterno\",\"Ap.Materno\",\"Edad\",\"Sexo\"))\n",
        "    print(\"{:<20}{:<20}{:<20}{:<20}{:<20}{}\".format(dic['Matricula'],dic['Nombre'],dic['Ap.Paterno'],dic['Ap.Materno'],dic['Edad'],dic['Sexo']))"
      ],
      "metadata": {
        "id": "h80sfsYS7mRr"
      },
      "execution_count": 71,
      "outputs": []
    },
    {
      "cell_type": "code",
      "source": [
        "def menu():\n",
        "    print(\"MENU:\")\n",
        "    print(\"1.-CREAR DICCIONARIO\")\n",
        "    print(\"2.-IMPRIMIR DICCIONARIO\")\n",
        "    print(\"0.-SALIR\")"
      ],
      "metadata": {
        "id": "Zx7Or1anv-rX"
      },
      "execution_count": 72,
      "outputs": []
    },
    {
      "cell_type": "code",
      "source": [
        "#EJECUCION DE TODAS LAS FUNCIONES(MAIN)\n",
        "while True:\n",
        "    menu()\n",
        "    op = valinum_int(\"Ingresa la funcion que deseas utilizar: \")\n",
        "    if op == 1:\n",
        "        dic = crear_dic()\n",
        "        input(\"Presiona ENTER para borrar la pantalla\")\n",
        "        clear_output()\n",
        "        continue\n",
        "    elif op == 2:\n",
        "        imprimir_dic(dic)\n",
        "        input(\"Presiona ENTER para borrar la pantalla\")\n",
        "        clear_output()\n",
        "        continue\n",
        "    elif op == 0:\n",
        "        break"
      ],
      "metadata": {
        "colab": {
          "base_uri": "https://localhost:8080/"
        },
        "id": "il6T_Dq-wCgO",
        "outputId": "dc0c426d-8844-4df6-90fd-63a3e28fe7f9"
      },
      "execution_count": null,
      "outputs": [
        {
          "output_type": "stream",
          "name": "stdout",
          "text": [
            "MENU:\n",
            "1.-CREAR DICCIONARIO\n",
            "2.-IMPRIMIR DICCIONARIO\n",
            "0.-SALIR\n",
            "Ingresa la funcion que deseas utilizar: 2\n",
            "Matricula           Nombre              Ap.Paterno          Ap.Materno          Edad                Sexo\n",
            "368911              Marcelo             Marquez             Ontiveros           19                  H\n"
          ]
        }
      ]
    }
  ]
}